{
  "nbformat": 4,
  "nbformat_minor": 0,
  "metadata": {
    "colab": {
      "name": "AndrewBowen_MathwithPython_HW1.ipynb",
      "provenance": [],
      "collapsed_sections": [],
      "authorship_tag": "ABX9TyOrANl5Pu7UtT2qnLiOjSDL",
      "include_colab_link": true
    },
    "kernelspec": {
      "name": "python3",
      "display_name": "Python 3"
    },
    "language_info": {
      "name": "python"
    }
  },
  "cells": [
    {
      "cell_type": "markdown",
      "metadata": {
        "id": "view-in-github",
        "colab_type": "text"
      },
      "source": [
        "<a href=\"https://colab.research.google.com/github/andrewbowen19/CUNY-PythonBrige/blob/main/AndrewBowen_MathwithPython_HW1.ipynb\" target=\"_parent\"><img src=\"https://colab.research.google.com/assets/colab-badge.svg\" alt=\"Open In Colab\"/></a>"
      ]
    },
    {
      "cell_type": "markdown",
      "source": [
        "Chapter 1.  Programming Challenge 1 page 22, Even-Odd Vending Machine\n",
        "\n",
        "Try writing an “even-odd vending machine,” which will take a number as\n",
        "input and do two things:\n",
        "1. Print whether the number is even or odd.\n",
        "2. Display the number followed by the next 9 even or odd numbers.\n",
        "If the input is 2, the program should print even and then print 2, 4, 6,\n",
        "8, 10, 12, 14, 16, 18, 20. Similarly, if the input is 1, the program should\n",
        "print odd and then print 1, 3, 5, 7, 9, 11, 13, 15, 17, 19.\n",
        "\n",
        "Working with Numbers 23\n",
        "Your program should use the is_integer() method to display an error\n",
        "message if the input is a number with significant digits beyond the decimal\n",
        "point."
      ],
      "metadata": {
        "id": "6QilT2kKRtnU"
      }
    },
    {
      "cell_type": "code",
      "source": [
        "def even_odd_vending_machine(n:int):\n",
        "\n",
        "  # Checking type first\n",
        "  if not float(n).is_integer():\n",
        "    raise(TypeError)\n",
        "\n",
        "  if (n % 2) == 0:\n",
        "    print('Even')\n",
        "  else:\n",
        "    print(\"Odd\")\n",
        "\n",
        "  for i in range(0, 9):\n",
        "      print(n + (2 * i))\n",
        "\n",
        "    "
      ],
      "metadata": {
        "id": "lET0-214RrVi"
      },
      "execution_count": null,
      "outputs": []
    },
    {
      "cell_type": "code",
      "source": [
        "even_odd_vending_machine(18)"
      ],
      "metadata": {
        "colab": {
          "base_uri": "https://localhost:8080/"
        },
        "id": "0UcnqqipSDQ4",
        "outputId": "056f5d09-3c45-4b73-db50-40370d64c54d"
      },
      "execution_count": null,
      "outputs": [
        {
          "output_type": "stream",
          "name": "stdout",
          "text": [
            "Even\n",
            "18\n",
            "20\n",
            "22\n",
            "24\n",
            "26\n",
            "28\n",
            "30\n",
            "32\n",
            "34\n"
          ]
        }
      ]
    },
    {
      "cell_type": "markdown",
      "source": [
        "## Exploring a Quadratic Function visually\n",
        "\n"
      ],
      "metadata": {
        "id": "Fx7OhumtTjxJ"
      }
    },
    {
      "cell_type": "code",
      "source": [
        "import matplotlib.pyplot as plt\n",
        "\n",
        "def quadratic(x):\n",
        "  return x**2 + 2*x + 1\n",
        "\n",
        "\n",
        "x_vals = [-8, -3, 1, 2, 5, 6, 8, 9, 11, 15]\n",
        "\n",
        "y_vals = []\n",
        "\n",
        "for x in x_vals:\n",
        "  y = quadratic(x)\n",
        "  print(f\"x={x}, y={y}\")\n",
        "  y_vals.append(y)\n",
        "\n",
        "\n",
        "plt.plot(x_vals, y_vals)\n",
        "plt.title(\"Quadratic function\")\n"
      ],
      "metadata": {
        "colab": {
          "base_uri": "https://localhost:8080/",
          "height": 468
        },
        "id": "l-_Z1OKDSJ7g",
        "outputId": "df48e795-56e2-441c-a2f6-4a3d5aec8d46"
      },
      "execution_count": null,
      "outputs": [
        {
          "output_type": "stream",
          "name": "stdout",
          "text": [
            "x=-8, y=49\n",
            "x=-3, y=4\n",
            "x=1, y=4\n",
            "x=2, y=9\n",
            "x=5, y=36\n",
            "x=6, y=49\n",
            "x=8, y=81\n",
            "x=9, y=100\n",
            "x=11, y=144\n",
            "x=15, y=256\n"
          ]
        },
        {
          "output_type": "execute_result",
          "data": {
            "text/plain": [
              "Text(0.5, 1.0, 'Quadratic function')"
            ]
          },
          "metadata": {},
          "execution_count": 25
        },
        {
          "output_type": "display_data",
          "data": {
            "text/plain": [
              "<Figure size 432x288 with 1 Axes>"
            ],
            "image/png": "[encoded data removed]"
          },
          "metadata": {
            "needs_background": "light"
          }
        }
      ]
    },
    {
      "cell_type": "markdown",
      "source": [
        "y varies non-linearly with x in the graph above."
      ],
      "metadata": {
        "id": "Csi0nUhbUpbs"
      }
    },
    {
      "cell_type": "markdown",
      "source": [
        "#### Chapter 3.  Programming Challenge 2 page 89, Statistics Calculator\n",
        "\n",
        "\n",
        "Using some of the baked-in functions from the textbook for calculatign statistics"
      ],
      "metadata": {
        "id": "3AEHOyyxVVBv"
      }
    },
    {
      "cell_type": "code",
      "source": [
        "from collections import Counter\n",
        "\n",
        "def calculate_mean(numbers):\n",
        "  s = sum(numbers)\n",
        "  N = len(numbers)\n",
        "  mean = s / N\n",
        "  return mean\n",
        "\n",
        "def find_differences(numbers):\n",
        "  # Find the mean\n",
        "  mean = calculate_mean(numbers)\n",
        "  # Find the differences from the mean\n",
        "  diff = []\n",
        "\n",
        "  for num in numbers:\n",
        "    diff.append(num - mean)\n",
        "  return diff\n",
        "\n",
        "\n",
        "def calculate_variance(numbers):\n",
        "  # Find the list of differences\n",
        "  diff = find_differences(numbers)\n",
        "  # Find the squared differences\n",
        "  squared_diff = []\n",
        "  for d in diff:\n",
        "    squared_diff.append(d**2)\n",
        "  # Find the variance\n",
        "  sum_squared_diff = sum(squared_diff)\n",
        "  variance = sum_squared_diff/len(numbers)\n",
        "\n",
        "  return variance\n",
        "\n",
        "\n",
        "def calculate_median(numbers):\n",
        "  N = len(numbers)\n",
        "  numbers.sort()\n",
        "  # Find the median\n",
        "  if N % 2 == 0:\n",
        "    # if N is even\n",
        "    m1 = N/2\n",
        "    m2 = (N/2) + 1\n",
        "    # Convert to integer, match position\n",
        "    m1 = int(m1) - 1\n",
        "    m2 = int(m2) - 1\n",
        "    median = (numbers[m1] + numbers[m2])/2\n",
        "  else:\n",
        "    m = (N+1)/2\n",
        "    # Convert to integer, match position\n",
        "    m = int(m) - 1\n",
        "    median = numbers[m]\n",
        "  return median\n",
        "\n",
        "\n",
        "def calculate_mode(numbers):\n",
        "  c = Counter(numbers)\n",
        "  numbers_freq = c.most_common()\n",
        "  max_count = numbers_freq[0][1]\n",
        "  modes = []\n",
        "  for num, count in numbers_freq:\n",
        "    if count == max_count:\n",
        "      modes.append(num)\n",
        "\n",
        "  return tuple(modes)\n",
        "  "
      ],
      "metadata": {
        "id": "ci82eOXgVlQo"
      },
      "execution_count": null,
      "outputs": []
    },
    {
      "cell_type": "code",
      "source": [
        "from math import sqrt\n",
        "data = list()\n",
        "\n",
        "with open(\"mydata.txt\", \"r\") as f:\n",
        "  for l in f:\n",
        "    data.append(float(l))\n",
        "\n",
        "print(data)\n",
        "\n",
        "# Calculating statistics of our data set\n",
        "mode = calculate_mode(data)\n",
        "mean = calculate_mean(data)\n",
        "variance = calculate_variance(data)\n",
        "std_dev = sqrt(variance)\n",
        "median = calculate_median(data)\n",
        "\n",
        "# Printing statistics to screen\n",
        "print(f'Mode: {mode}')\n",
        "print(f'Mean: {mean}')\n",
        "print(f'Median: {median}')\n",
        "print(f'Variance: {variance}')\n",
        "print(f'Std Dev: {std_dev}')\n",
        "\n"
      ],
      "metadata": {
        "colab": {
          "base_uri": "https://localhost:8080/"
        },
        "id": "OQMB14VST9PP",
        "outputId": "770f7194-bcf1-45e0-a209-8f01b8fe7ce4"
      },
      "execution_count": null,
      "outputs": [
        {
          "output_type": "stream",
          "name": "stdout",
          "text": [
            "[100.0, 60.0, 70.0, 900.0, 100.0, 200.0, 500.0, 500.0, 503.0, 600.0, 1000.0, 1200.0]\n",
            "Mode: (100.0, 500.0)\n",
            "Mean: 477.75\n",
            "Median: 500.0\n",
            "Variance: 141047.35416666666\n",
            "Std Dev: 375.5627166887931\n"
          ]
        }
      ]
    },
    {
      "cell_type": "markdown",
      "source": [
        "# 4\n",
        "Chapter 4.  Programming Challenge 4 page 117, Solving Single-Variable Inequalities"
      ],
      "metadata": {
        "id": "IZljoeXLYphA"
      }
    },
    {
      "cell_type": "code",
      "source": [
        "from sympy import *"
      ],
      "metadata": {
        "id": "_kEokF0YViZ0"
      },
      "execution_count": null,
      "outputs": []
    },
    {
      "cell_type": "code",
      "source": [
        "def isolve():\n",
        "  i = input(\"Please input your inequality: \")\n",
        "  \n",
        "  ineq_obj = sympy.sympify(i)\n",
        "\n",
        "  print(ineq_obj)\n",
        "  \n",
        "  # Checking if the expression is a polynomial or rational\n",
        "  if ineq_obj.is_Poly:\n",
        "    lhs = ineq_obj.lhs\n",
        "    p = Poly(lhs, x)\n",
        "    rel = ineq_obj.rel_op\n",
        "    return solve_poly_inequality(p, rel)\n",
        "\n",
        "  if ineq_obj.is_Rational:\n",
        "    lhs = ineq_obj.lhs\n",
        "    numer, denom = lhs.as_numer_denom()\n",
        "    p1 = Poly(numer)\n",
        "    p2 = Poly(denom)\n",
        "    rel = ineq_obj.rel_op\n",
        "    return solve_rational_inequalities([[((p1, p2), rel)]])\n",
        "\n",
        "  # Univariate to solve the rest\n",
        "  else:\n",
        "    return solve_univariate_inequality(ineq_obj, x, relational=False)\n",
        "\n",
        "\n",
        "xx = isolve()\n",
        "\n",
        "print(xx)"
      ],
      "metadata": {
        "colab": {
          "base_uri": "https://localhost:8080/"
        },
        "id": "dLcDYOG5ZS_J",
        "outputId": "1e6fd700-0400-4feb-d331-427d17df39ec"
      },
      "execution_count": null,
      "outputs": [
        {
          "output_type": "stream",
          "name": "stdout",
          "text": [
            "Please input your inequality: sin(x) + 6 > 2\n",
            "sin(x) + 6 > 2\n",
            "Reals\n"
          ]
        }
      ]
    },
    {
      "cell_type": "markdown",
      "source": [
        "## 5\n",
        "\n",
        "Chapter 5.  Programming Challenge 2 page 143, Law of Large Numbers\n",
        "\n",
        "We can see as the number of trials increases, the means approach the calculated expected value of 3.5"
      ],
      "metadata": {
        "id": "wEzxsWnFelyR"
      }
    },
    {
      "cell_type": "code",
      "source": [
        "from random import randint\n",
        "\n",
        "def roll_die(n_sides=6):\n",
        "  return randint(1, n_sides)"
      ],
      "metadata": {
        "id": "EYAnon6ocXcd"
      },
      "execution_count": 1,
      "outputs": []
    },
    {
      "cell_type": "code",
      "source": [
        "n_rolls = [100, 1000, 10000, 100000, 500000]"
      ],
      "metadata": {
        "id": "Ll6L3TIlfaB9"
      },
      "execution_count": null,
      "outputs": []
    },
    {
      "cell_type": "code",
      "source": [
        "# Looping over iteration numbers (n)\n",
        "print(\"Expected value: 3.5\")\n",
        "\n",
        "for n in n_rolls:\n",
        "  results = []\n",
        "  for i in range(n):\n",
        "    results.append(roll_die())\n",
        "\n",
        "  trial_avg = calculate_mean(results)\n",
        "  print(f\"Trials {n} Trial average: {trial_avg}\")\n"
      ],
      "metadata": {
        "colab": {
          "base_uri": "https://localhost:8080/"
        },
        "id": "6GJKugosfbLf",
        "outputId": "b18f3f13-a052-416e-8077-fed389f36884"
      },
      "execution_count": null,
      "outputs": [
        {
          "output_type": "stream",
          "name": "stdout",
          "text": [
            "Expected value: 3.5\n",
            "Trials 100 Trial average: 3.48\n",
            "Trials 1000 Trial average: 3.593\n",
            "Trials 10000 Trial average: 3.4795\n",
            "Trials 100000 Trial average: 3.49434\n",
            "Trials 500000 Trial average: 3.497104\n"
          ]
        }
      ]
    },
    {
      "cell_type": "markdown",
      "source": [
        "## 7\n",
        "\n",
        "**Chapter 7.  Programming Challenge 2 page 205, Implement the Gradient Descent**\n",
        "\n",
        "\n",
        "The gradient descent method is used to find the minimum value of a func-\n",
        "tion. Similar to the gradient ascent method, the gradient descent method is an iterative method: we start with an initial value of the variable and gradually get closer to the variable value that corresponds to the minimum value of the function. The step that gets us closer is the equation\n",
        "\n",
        "$x_{new} = x_{old} − λ(df/dx)$ ,\n",
        "\n",
        "where λ is the step size and\n",
        "\n",
        "$df / dx$ is the result of differentiating the function. Thus, the only difference\n",
        "from the gradient ascent method is how we obtain the value of $x_{new}$ from\n",
        "$x_{old}$.\n",
        "\n",
        "Your challenge is to implement a generic program using the gradient\n",
        "descent algorithm to find the minimum value of a single-variable function\n",
        "specified as input by the user. The program should also create a graph of the function and show all the intermediate values it found before find-\n",
        "ing the minimum. (You may want to refer to Figure 7-5 on page 193.)"
      ],
      "metadata": {
        "id": "oNF8Kh15gcP_"
      }
    },
    {
      "cell_type": "code",
      "source": [
        "from sympy import Symbol, exp, sqrt, pi, Integral, S"
      ],
      "metadata": {
        "id": "OX9EZG7ihkU4"
      },
      "execution_count": null,
      "outputs": []
    },
    {
      "cell_type": "code",
      "source": [
        "def grad_descent(x0, fx, x, epsilon = 1e-5, step_size = 1e-4):\n",
        "  '''\n",
        "  Calculate gradient descent of a given function.\n",
        "  Based on the gradient_ascent function provided in Doing Math with Python\n",
        "\n",
        "  params:\n",
        "    x0 (int): initial value of x (int)\n",
        "    fx (sympy expression): function along which gradient descent should be performed\n",
        "    x (sympy.Symbol): the variable over which to differentiate\n",
        "    epsilon (int): difference value within which gradient descent should finish\n",
        "    step_size (int): the step size with which to shift from x0\n",
        "  '''\n",
        "  x_old = x0\n",
        "  f1x = Derivative(fx, x).doit()\n",
        "  x_new = x_old + step_size * f1x.subs({x:x_old}).evalf()\n",
        "\n",
        "  f, ax = plt.subplots()\n",
        "  \n",
        "\n",
        "  while abs(x_old - x_new) > epsilon:\n",
        "    x_old = x_new\n",
        "\n",
        "    # Main difference between gradient descent and ascent is formula in calulating the \"new\" x-value\n",
        "    # is that we want to subtract step_size * (derivative of f at our evaluation pt)\n",
        "    # Using the same formula outlined on p 206\n",
        "    x_new = x_old - step_size * f1x.subs({x:x_old}).evalf()\n",
        "\n",
        "    ax.scatter(x_new, fx.subs({x:x_old}).evalf())\n",
        "  ax.set_xlabel(\"x\")\n",
        "  ax.set_ylabel(\"f(x)\")\n",
        "\n",
        "  return x_new\n",
        "\n",
        "\n",
        "# Similar input structure to input for gradient_ascent\n",
        "# I'm calculating the derivative inside the function because I want to abstract that away from the \"user\"\n",
        "f = input('Enter a one-variable function: ')\n",
        "var = input('Enter the variable to differentiate with respect to: ')\n",
        "initial_value = float(input('Enter the initial value of the variable: '))\n",
        "try:\n",
        "  f = sympify(f)\n",
        "except SympifyError:\n",
        "  print('Invalid function, please try again')\n",
        "else:\n",
        "  var = Symbol(var)\n",
        "  # d = Derivative(f, var).doit()\n",
        "  var_min = grad_descent(initial_value, f, var)\n",
        "  print('----------------------------------------')\n",
        "  print(f'Min value: {var_min}')"
      ],
      "metadata": {
        "id": "JE4Zb7qVhyK6"
      },
      "execution_count": null,
      "outputs": []
    },
    {
      "cell_type": "code",
      "source": [
        "# Converting to HTML for submission!\n",
        "\n",
        "%%shell\n",
        "jupyter nbconvert --to html /content/AndrewBowen_MathwithPython_HW1.ipynb"
      ],
      "metadata": {
        "id": "mTPQomxJjJZT",
        "colab": {
          "base_uri": "https://localhost:8080/"
        },
        "outputId": "126c7db1-05f1-4ae4-dcbc-d84211cd5645"
      },
      "execution_count": null,
      "outputs": [
        {
          "output_type": "stream",
          "name": "stdout",
          "text": [
            "[NbConvertApp] Converting notebook /content/AndrewBowen_MathwithPython_HW1.ipynb to html\n",
            "[NbConvertApp] Writing 345849 bytes to /content/AndrewBowen_MathwithPython_HW1.html\n"
          ]
        },
        {
          "output_type": "execute_result",
          "data": {
            "text/plain": [
              ""
            ]
          },
          "metadata": {},
          "execution_count": 2
        }
      ]
    },
    {
      "cell_type": "code",
      "source": [
        ""
      ],
      "metadata": {
        "id": "2JPfYUuD5En5"
      },
      "execution_count": null,
      "outputs": []
    }
  ]
}