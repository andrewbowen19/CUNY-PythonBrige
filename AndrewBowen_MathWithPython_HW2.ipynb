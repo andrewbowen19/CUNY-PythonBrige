{
  "nbformat": 4,
  "nbformat_minor": 0,
  "metadata": {
    "colab": {
      "name": "AndrewBowen_MathWithPython_HW2.ipynb",
      "provenance": [],
      "collapsed_sections": [],
      "authorship_tag": "ABX9TyPUmkAzv/65w3W5y6jEZAuC",
      "include_colab_link": true
    },
    "kernelspec": {
      "name": "python3",
      "display_name": "Python 3"
    },
    "language_info": {
      "name": "python"
    }
  },
  "cells": [
    {
      "cell_type": "markdown",
      "metadata": {
        "id": "view-in-github",
        "colab_type": "text"
      },
      "source": [
        "<a href=\"https://colab.research.google.com/github/andrewbowen19/pythonBridgeCUNY/blob/main/AndrewBowen_MathWithPython_HW2.ipynb\" target=\"_parent\"><img src=\"https://colab.research.google.com/assets/colab-badge.svg\" alt=\"Open In Colab\"/></a>"
      ]
    },
    {
      "cell_type": "markdown",
      "source": [
        "Do not use built in programs to do the following.  Write the programs to demonstrate that you understand the math behind them.  Provide all solutions in an .html file. \n",
        "1.  Write a Python program to compute the eigenvalues and right eigenvectors of a given square array.\n",
        "2.  Write a Python program to compute the factor of a given array by Singular Value Decomposition\n",
        "3.  Write a Python program to compute the determinant of an array."
      ],
      "metadata": {
        "id": "homnCjBfuSlq"
      }
    },
    {
      "cell_type": "markdown",
      "source": [
        "### Eigenvalues/eigenvectors\n",
        "\n",
        "The eigenvalues $\\lambda_n$ of a square matrix A are found when the characteristic equation $det(A - \\lambda I) = 0 $. Going to use the `determinant` function defined below to calculate the eigenvalues"
      ],
      "metadata": {
        "id": "vsbTR7jAuXsR"
      }
    },
    {
      "cell_type": "code",
      "source": [
        "import numpy as np\n",
        "\n",
        "# Sample matrix -- randomly generated\n",
        "np.random.seed(1234)\n",
        "\n",
        "my_matrix = np.random.randint(0, 10, (4,4))\n",
        "small_matrix = np.array([[1,1], [0, 3]]) ## Sample 'small' matrix with known eigenvals 1 & 3 -- testing purposes\n",
        "\n",
        "my_matrix"
      ],
      "metadata": {
        "id": "mbL1ja207J_6",
        "colab": {
          "base_uri": "https://localhost:8080/"
        },
        "outputId": "0b1a7ead-3d2b-431a-ebd0-82d4d499cf6c"
      },
      "execution_count": 7,
      "outputs": [
        {
          "output_type": "execute_result",
          "data": {
            "text/plain": [
              "array([[3, 6, 5, 4],\n",
              "       [8, 9, 1, 7],\n",
              "       [9, 6, 8, 0],\n",
              "       [5, 0, 9, 6]])"
            ]
          },
          "metadata": {},
          "execution_count": 7
        }
      ]
    },
    {
      "cell_type": "markdown",
      "source": [
        "## Eigenvalues/Eigenvectors\n",
        "\n",
        "Similar to our SVD attempt below, trying to write our own eigenvalue/eigenvector computation algorithm/functions. Using the `np.linalg.eig` function as a safety net."
      ],
      "metadata": {
        "id": "UhjGsoHuTQa1"
      }
    },
    {
      "cell_type": "markdown",
      "source": [
        "Outlining our math/logic for the `get_eigenvector` function"
      ],
      "metadata": {
        "id": "wDJVbVVbc1LP"
      }
    },
    {
      "cell_type": "code",
      "source": [
        "from numpy.linalg import LinAlgError\n",
        "import scipy\n",
        "print('Numpy soln:')\n",
        "sample_matrix = np.array([[-2, -2, 4], [-4, 1, 2],[2, 2, 5]], float)\n",
        "print(np.linalg.eig(sample_matrix))\n",
        "print(\"------------------------\")\n",
        "\n",
        "def get_eigenvector(matrix: np.array, l: float):\n",
        "  '''Calculate eigenvector for a given matrix and eigenvalue'''\n",
        "  n = matrix.shape[0]  # Since we're dealing with square matrices, we can assume n = m\n",
        "  lambda_matrix = np.zeros(matrix.shape, float)\n",
        "  np.fill_diagonal(lambda_matrix, l)\n",
        "  print(f'Lambda matrix: {lambda_matrix}')\n",
        "\n",
        "  # Subtracting eigenvalue across diagonal\n",
        "  a = matrix - lambda_matrix\n",
        "  print(a)\n",
        "  # Trying each basis vector in n-dimensional space\n",
        "  b = np.zeros((n, 1))\n",
        "\n",
        "  eigenvector = np.linalg.solve(a, b)\n",
        "\n",
        "  print(eigenvector)\n",
        "\n",
        "  return eigenvector\n",
        "\n",
        "# Running into a bug where we are returning either the zero vector or eigenvectors with huge component vals\n",
        "# Coming from call of np.linalg.solve --\n",
        "v = get_eigenvector(sample_matrix, 3)\n"
      ],
      "metadata": {
        "colab": {
          "base_uri": "https://localhost:8080/"
        },
        "id": "P2YvplhqdBPA",
        "outputId": "8b2f0ae3-2f27-4954-9a77-127919c11f98"
      },
      "execution_count": 8,
      "outputs": [
        {
          "output_type": "stream",
          "name": "stdout",
          "text": [
            "Numpy soln:\n",
            "(array([-5.,  3.,  6.]), array([[ 7.57033299e-01,  5.34522484e-01,  4.47213595e-01],\n",
            "       [ 5.94811877e-01, -8.01783726e-01,  4.78602940e-17],\n",
            "       [-2.70369035e-01,  2.67261242e-01,  8.94427191e-01]]))\n",
            "------------------------\n",
            "Lambda matrix: [[3. 0. 0.]\n",
            " [0. 3. 0.]\n",
            " [0. 0. 3.]]\n",
            "[[-5. -2.  4.]\n",
            " [-4. -2.  2.]\n",
            " [ 2.  2.  2.]]\n",
            "[[-0.]\n",
            " [ 0.]\n",
            " [-0.]]\n"
          ]
        }
      ]
    },
    {
      "cell_type": "code",
      "execution_count": 9,
      "metadata": {
        "colab": {
          "base_uri": "https://localhost:8080/"
        },
        "id": "WCKaA5I5uLCh",
        "outputId": "22fa9581-530a-43b2-888c-40697bd59a87"
      },
      "outputs": [
        {
          "output_type": "stream",
          "name": "stdout",
          "text": [
            "[[-lambda - 2.0 -2.00000000000000 4.00000000000000]\n",
            " [-4.00000000000000 1.0 - lambda 2.00000000000000]\n",
            " [2.00000000000000 2.00000000000000 5.0 - lambda]]\n",
            "Characteristic Eq.: -lambda**3 + 4.0*lambda**2 + 27.0*lambda - 90.0\n",
            "<class 'list'> [-5.00000000000000, 3.00000000000000, 6.00000000000000] 3\n",
            "Computing eigenvector for eigenvalue: -5.00000000000000\n",
            "Lambda matrix: [[-5.  0.  0.]\n",
            " [ 0. -5.  0.]\n",
            " [ 0.  0. -5.]]\n",
            "[[ 3. -2.  4.]\n",
            " [-4.  6.  2.]\n",
            " [ 2.  2. 10.]]\n",
            "Computing eigenvector for eigenvalue: 3.00000000000000\n",
            "Lambda matrix: [[3. 0. 0.]\n",
            " [0. 3. 0.]\n",
            " [0. 0. 3.]]\n",
            "[[-5. -2.  4.]\n",
            " [-4. -2.  2.]\n",
            " [ 2.  2.  2.]]\n",
            "[[-0.]\n",
            " [ 0.]\n",
            " [-0.]]\n",
            "Computing eigenvector for eigenvalue: 6.00000000000000\n",
            "Lambda matrix: [[6. 0. 0.]\n",
            " [0. 6. 0.]\n",
            " [0. 0. 6.]]\n",
            "[[-8. -2.  4.]\n",
            " [-4. -5.  2.]\n",
            " [ 2.  2. -1.]]\n"
          ]
        }
      ],
      "source": [
        "import sympy\n",
        "from sympy.solvers import solve\n",
        "\n",
        "def construct_identity_matrix(matrix:list) -> list:\n",
        "  '''Construct identity matrix of same shape of a given matrix\n",
        "  Could just use np.identity for simplicity\n",
        "  '''\n",
        "  n = len(matrix)\n",
        "  identity_matrix = [[0 for col in matrix[0]] for row in matrix]\n",
        "  # Setting diagonal entries to one\n",
        "  for i in range(n):\n",
        "    for j in range(n):\n",
        "      if i == j:\n",
        "        identity_matrix[i][j] = 1\n",
        "      else:\n",
        "        identity_matrix[i][j] = 0\n",
        "\n",
        "  return identity_matrix\n",
        "\n",
        "def get_eigenvalues(matrix:list):\n",
        "  \"\"\"Compute eigenvalues and eigenvectors of a given n x n matrix/array\"\"\"\n",
        "  n = len(matrix)\n",
        "  # Converting from list to array for easier matrix multiplication/addition easier via np\n",
        "  identity_matrix = np.array(construct_identity_matrix(matrix))\n",
        "\n",
        "  eigenval =  sympy.Symbol(\"lambda\")\n",
        "  I = identity_matrix * eigenval\n",
        "  char_matrix = matrix - I\n",
        "  print(char_matrix)\n",
        "\n",
        "  # Need to determine where the det of our char_matrix is 0\n",
        "  # Using sympy.solve to find solns to characteristic eq\n",
        "  char_eq = sympy.Matrix(char_matrix).det()\n",
        "\n",
        "  print(\"Characteristic Eq.:\", char_eq)\n",
        "  eigenvalues = solve(char_eq, eigenval)\n",
        "  \n",
        "  print(type(eigenvalues), eigenvalues, len(eigenvalues))\n",
        "\n",
        "  # Calculating eigenvectors using our get_eigenvector function\n",
        "  eigenvectors = []\n",
        "  for e in eigenvalues:\n",
        "    print(f\"Computing eigenvector for eigenvalue: {e}\")\n",
        "\n",
        "    # Running into LinAlgErrors when I try to run\n",
        "    try:\n",
        "      eigenvector = get_eigenvector(matrix, e)\n",
        "      eigenvectors.append(eigenvector)\n",
        "    except LinAlgError:\n",
        "      eigenvectors.append(np.zeros((n, 1)))\n",
        "\n",
        "  return eigenvalues, eigenvectors\n",
        "\n",
        "\n",
        "evals = get_eigenvalues(sample_matrix)\n",
        "\n",
        "# evals\n",
        "# a simpler way would be to use the numpy.linalg.eig function (used below)"
      ]
    },
    {
      "cell_type": "code",
      "source": [
        "# using numpy.linalg.eig function to calculate eigenvalues and eigenvectors\n",
        "eigenvalues, eigenvectors = np.linalg.eig(my_matrix)\n",
        "\n",
        "print(f\"Eigenvalues: {eigenvalues}\")\n",
        "print(f\"Eigenvectors: {eigenvectors}\")\n",
        "\n",
        "\n",
        "# Generalize to a function for any matrix\n",
        "def get_eig(matrix):\n",
        "  '''\n",
        "  Returns eigenvalues and eigenvectors of a given array/matrix\n",
        "\n",
        "  parameters:\n",
        "    matrix (np.array): n x n matrix supplied as a numpy array type\n",
        "  '''\n",
        "  return np.linalg.eig(matrix)\n",
        "\n",
        "\n",
        "# Initialize sample random matrix\n",
        "get_eig(my_matrix)"
      ],
      "metadata": {
        "colab": {
          "base_uri": "https://localhost:8080/"
        },
        "id": "T6LcrU6aMniM",
        "outputId": "3c347ef8-39ec-40e6-a6f4-afd66ee84a11"
      },
      "execution_count": 10,
      "outputs": [
        {
          "output_type": "stream",
          "name": "stdout",
          "text": [
            "Eigenvalues: [21.49583862+0.j         -3.192808  +0.j          3.84848469+6.07810701j\n",
            "  3.84848469-6.07810701j]\n",
            "Eigenvectors: [[ 0.42769167+0.j          0.79462986+0.j         -0.0399256 -0.02143891j\n",
            "  -0.0399256 +0.02143891j]\n",
            " [ 0.5693551 +0.j         -0.46127325+0.j         -0.3204601 -0.43631538j\n",
            "  -0.3204601 +0.43631538j]\n",
            " [ 0.53834043+0.j         -0.3916827 +0.j         -0.14047031+0.47140593j\n",
            "  -0.14047031-0.47140593j]\n",
            " [ 0.45067082+0.j         -0.04873429+0.j          0.68038598+0.j\n",
            "   0.68038598-0.j        ]]\n"
          ]
        },
        {
          "output_type": "execute_result",
          "data": {
            "text/plain": [
              "(array([21.49583862+0.j        , -3.192808  +0.j        ,\n",
              "         3.84848469+6.07810701j,  3.84848469-6.07810701j]),\n",
              " array([[ 0.42769167+0.j        ,  0.79462986+0.j        ,\n",
              "         -0.0399256 -0.02143891j, -0.0399256 +0.02143891j],\n",
              "        [ 0.5693551 +0.j        , -0.46127325+0.j        ,\n",
              "         -0.3204601 -0.43631538j, -0.3204601 +0.43631538j],\n",
              "        [ 0.53834043+0.j        , -0.3916827 +0.j        ,\n",
              "         -0.14047031+0.47140593j, -0.14047031-0.47140593j],\n",
              "        [ 0.45067082+0.j        , -0.04873429+0.j        ,\n",
              "          0.68038598+0.j        ,  0.68038598-0.j        ]]))"
            ]
          },
          "metadata": {},
          "execution_count": 10
        }
      ]
    },
    {
      "cell_type": "markdown",
      "source": [
        "## Single-Value Decomposition\n",
        "\n",
        "Trying to write our own SVD algortithm before defaulting to the one provided from `scipy.linalg`.\n",
        "\n",
        "We use the formula provided in the reading:\n",
        "\n",
        "$A = U ⋅ \\Sigma \\cdot V^T$\n",
        "\n",
        "[We know](https://en.wikipedia.org/wiki/Singular_value_decomposition#Relation_to_eigenvalue_decomposition) the following: \n",
        "- The columns of $V$ are eigenvectors of $A^TA$.\n",
        "- The columns of U (left-singular values) are the eignevectors of $AA^T$.\n",
        "- The non-zero elements of \n",
        "$\\Sigma$ (singular values matrix) are the square roots of the non-zero eigenvalues of $A^TA$ or $AA^T$.\n",
        "\n",
        "Citing wikipedia here but I have found [other sources](https://web.mit.edu/be.400/www/SVD/Singular_Value_Decomposition.htm) that list this condition. I'm going to use the `np.linalg.eig` function to solve for eigenvectors/eigenvalues of $A^TA$ and $AA^T$here because my eigenvector function has a bug currently.\n",
        "\n"
      ],
      "metadata": {
        "id": "c9h2POqhVB2N"
      }
    },
    {
      "cell_type": "code",
      "source": [
        "def singularValueDecomposition(A: np.array):\n",
        "  '''Perform singular value decomposition on a given array/matrx.\n",
        "  Return U, sigma, Vt matrices\n",
        "  '''\n",
        "  # Computing Vt -- right-singular values of A\n",
        "  # (row eigenvectors of AtA) -- if we transpose it to just get V we'll get the column eigenvector\n",
        "  AtA = A.transpose() @ A\n",
        "  evals_V, Vt = np.linalg.eig(AtA)\n",
        "  Vt = Vt.transpose()\n",
        "\n",
        "  # Computing left-singular values of A\n",
        "  AAt = A @ A.transpose()\n",
        "  evals_U, U = np.linalg.eig(AAt)\n",
        "\n",
        "  # Computing sigma matrix -- singular values of A (along diagonal)\n",
        "  print(evals_U, evals_V)\n",
        "  sigma_U = np.sqrt(evals_U)\n",
        "  print(f'Sigma (U): {sigma_U}')\n",
        "\n",
        "  sigma = np.diag(sigma_U)\n",
        "\n",
        "  return U, sigma, Vt\n",
        "\n",
        "svd_matrix = np.array([[2, 4], [1, 3], [0, 0], [0, 0]])\n",
        "U, S, Vt = singularValueDecomposition(svd_matrix)\n",
        "\n",
        "print(f\"U: {U}\\n\")\n",
        "print(f\"Sigma: {S}\")\n",
        "print(f\"V-tanspose: {Vt}\")\n",
        "\n"
      ],
      "metadata": {
        "id": "0i_nWsZ4Ztt3",
        "colab": {
          "base_uri": "https://localhost:8080/"
        },
        "outputId": "a5adf4d8-8122-42e8-de38-3195c77299e9"
      },
      "execution_count": 11,
      "outputs": [
        {
          "output_type": "stream",
          "name": "stdout",
          "text": [
            "[29.86606875  0.13393125  0.          0.        ] [ 0.13393125 29.86606875]\n",
            "Sigma (U): [5.4649857  0.36596619 0.         0.        ]\n",
            "U: [[ 0.81741556 -0.57604844  0.          0.        ]\n",
            " [ 0.57604844  0.81741556  0.          0.        ]\n",
            " [ 0.          0.          1.          0.        ]\n",
            " [ 0.          0.          0.          1.        ]]\n",
            "\n",
            "Sigma: [[5.4649857  0.         0.         0.        ]\n",
            " [0.         0.36596619 0.         0.        ]\n",
            " [0.         0.         0.         0.        ]\n",
            " [0.         0.         0.         0.        ]]\n",
            "V-tanspose: [[-0.9145143   0.40455358]\n",
            " [-0.40455358 -0.9145143 ]]\n"
          ]
        }
      ]
    },
    {
      "cell_type": "code",
      "source": [
        "# Using svd function from scipy.linalg package\n",
        "from scipy.linalg import svd\n",
        "\n",
        "def compute_svd(A):\n",
        "  '''\n",
        "  Compute Single-Value Decomposition for a given n x m matrix\n",
        "\n",
        "  parameters:\n",
        "    arr (np.array): n x n matrix supplied as a numpy array type\n",
        "\n",
        "  returns:\n",
        "    U (np.array): left-singluar vectors of A\n",
        "    sigma (np.array): singular vectors of A\n",
        "    Vt (np.array): right-singular vectors of A\n",
        "  '''\n",
        "  return svd(A)\n",
        "\n",
        "U, sigma, Vt = compute_svd(svd_matrix)\n",
        "\n",
        "# Printing out Vt's transpose so we have the right values as column vectors\n",
        "# They look the same (Vt transposed but same row/col vector values) as our singularValueDecomposition function above\n",
        "print(f\"left-singular values (U): {U}\")\n",
        "print(f\"Singular values (Sigma): {sigma}\")\n",
        "print(f\"Right-singular values: {Vt}\")"
      ],
      "metadata": {
        "colab": {
          "base_uri": "https://localhost:8080/"
        },
        "id": "WIBVVEybVGNl",
        "outputId": "87ef2978-48a8-4f72-92bb-cb2bbd41be7c"
      },
      "execution_count": 12,
      "outputs": [
        {
          "output_type": "stream",
          "name": "stdout",
          "text": [
            "left-singular values (U): [[-0.81741556 -0.57604844  0.          0.        ]\n",
            " [-0.57604844  0.81741556  0.          0.        ]\n",
            " [ 0.          0.          1.          0.        ]\n",
            " [ 0.          0.          0.          1.        ]]\n",
            "Singular values (Sigma): [5.4649857  0.36596619]\n",
            "Right-singular values: [[-0.40455358 -0.9145143 ]\n",
            " [-0.9145143   0.40455358]]\n"
          ]
        }
      ]
    },
    {
      "cell_type": "markdown",
      "source": [
        ""
      ],
      "metadata": {
        "id": "OCwmy2yVWKzL"
      }
    },
    {
      "cell_type": "markdown",
      "source": [
        "## Determinant of an array\n",
        "\n",
        "Implementing the formula from [this vid](https://www.youtube.com/watch?v=Dp5ShwFABUo):\n",
        "\n",
        "\n",
        "> $det(A) = \\sum_{j=1}^{n} (-1)^{i + j}a_{ij}det(A_{ij})$\n",
        "\n",
        "Keeping $i$ fixed at the starting row (indexed at 0 in python), and looping over the columns to generate the sub-matrices\n",
        "\n",
        "I'm using the [python `copy` library](https://docs.python.org/3/library/copy.html) so the sub-matrix generation doesn't affect the original matrix object."
      ],
      "metadata": {
        "id": "v8i_Mo3G4SLh"
      }
    },
    {
      "cell_type": "code",
      "source": [
        "from copy import deepcopy\n",
        "\n",
        "def get_sub_matrix(matrix:list, row:int, column:int) -> list:\n",
        "  '''Removes given row and column values from a matrix\n",
        "  Will use when determining sub-matricies we need to find the determinant of\n",
        "  '''\n",
        "  # Making a. copy of the matrix arg so the original matrix isn't affected\n",
        "  new_matrix = deepcopy(matrix)\n",
        "\n",
        "  # Removing the selected row and column vals from other rows in matrix\n",
        "  new_matrix.remove(matrix[row])\n",
        "  for i in range(len(new_matrix)):\n",
        "    new_matrix[i].pop(column)\n",
        "\n",
        "  return new_matrix \n",
        "\n",
        "\n",
        "def determinant(matrix:list) -> int:\n",
        "  \"\"\"Compute determinant of a square matrix\"\"\"\n",
        "  n = len(matrix)\n",
        "  \n",
        "  det = 1\n",
        "  # Going to keep indexing zero-based to be consistent with python\n",
        "  # Increment our determinant sum recursively\n",
        "  for j in range(0, n):\n",
        "    sub_matrix = get_sub_matrix(matrix, 0, j)\n",
        "    smaller_det = ((-1)**(j)) * matrix[0][j] * determinant(sub_matrix)\n",
        "    det += smaller_det\n",
        "\n",
        "  return det\n",
        "\n",
        "\n",
        "d = determinant(my_matrix.tolist())\n",
        "\n",
        "print(f\"Determinant: {d}\")\n"
      ],
      "metadata": {
        "colab": {
          "base_uri": "https://localhost:8080/"
        },
        "id": "56LtfWhXuSdR",
        "outputId": "d72204dd-dd74-4014-dbbf-ec1018bcd18e"
      },
      "execution_count": 16,
      "outputs": [
        {
          "output_type": "stream",
          "name": "stdout",
          "text": [
            "Determinant: -3750\n"
          ]
        }
      ]
    },
    {
      "cell_type": "code",
      "source": [
        "# Alternatively, using the numpy.linalg.det function is a lot easier :)\n",
        "d = np.linalg.det(my_matrix)\n",
        "\n",
        "print(f\"Determinant: {d}\")"
      ],
      "metadata": {
        "id": "FzLF2RZtwemT",
        "colab": {
          "base_uri": "https://localhost:8080/"
        },
        "outputId": "5c34a745-e9dd-4da2-ec2f-e06b3873379e"
      },
      "execution_count": 14,
      "outputs": [
        {
          "output_type": "stream",
          "name": "stdout",
          "text": [
            "Determinant: -3552.000000000004\n"
          ]
        }
      ]
    },
    {
      "cell_type": "code",
      "source": [
        ""
      ],
      "metadata": {
        "id": "F8MHu8WaF0gV"
      },
      "execution_count": 14,
      "outputs": []
    }
  ]
}