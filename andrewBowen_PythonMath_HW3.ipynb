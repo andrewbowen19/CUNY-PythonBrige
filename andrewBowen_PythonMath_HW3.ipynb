{
  "nbformat": 4,
  "nbformat_minor": 0,
  "metadata": {
    "colab": {
      "name": "andrewBowen_PythonMath_HW3.ipynb",
      "provenance": [],
      "collapsed_sections": [],
      "authorship_tag": "ABX9TyNETyWH5rrJvzSIaet0nbK+",
      "include_colab_link": true
    },
    "kernelspec": {
      "name": "python3",
      "display_name": "Python 3"
    },
    "language_info": {
      "name": "python"
    }
  },
  "cells": [
    {
      "cell_type": "markdown",
      "metadata": {
        "id": "view-in-github",
        "colab_type": "text"
      },
      "source": [
        "<a href=\"https://colab.research.google.com/github/andrewbowen19/pythonBridgeCUNY/blob/main/andrewBowen_PythonMath_HW3.ipynb\" target=\"_parent\"><img src=\"https://colab.research.google.com/assets/colab-badge.svg\" alt=\"Open In Colab\"/></a>"
      ]
    },
    {
      "cell_type": "code",
      "source": [
        "import numpy as np\n",
        "from scipy.stats import norm\n",
        "import scipy.stats\n",
        "import matplotlib.pyplot as plt"
      ],
      "metadata": {
        "id": "Wuo10PdQWl1e"
      },
      "execution_count": 151,
      "outputs": []
    },
    {
      "cell_type": "code",
      "source": [
        "help(norm)"
      ],
      "metadata": {
        "colab": {
          "base_uri": "https://localhost:8080/"
        },
        "id": "O40BbOVId6SY",
        "outputId": "0d6b9948-fc0d-4b7a-e8ed-1d9fb14cc44a"
      },
      "execution_count": 36,
      "outputs": [
        {
          "output_type": "stream",
          "name": "stdout",
          "text": [
            "Help on norm_gen in module scipy.stats._continuous_distns object:\n",
            "\n",
            "class norm_gen(scipy.stats._distn_infrastructure.rv_continuous)\n",
            " |  norm_gen(momtype=1, a=None, b=None, xtol=1e-14, badvalue=None, name=None, longname=None, shapes=None, extradoc=None, seed=None)\n",
            " |  \n",
            " |  A normal continuous random variable.\n",
            " |  \n",
            " |  The location (``loc``) keyword specifies the mean.\n",
            " |  The scale (``scale``) keyword specifies the standard deviation.\n",
            " |  \n",
            " |  %(before_notes)s\n",
            " |  \n",
            " |  Notes\n",
            " |  -----\n",
            " |  The probability density function for `norm` is:\n",
            " |  \n",
            " |  .. math::\n",
            " |  \n",
            " |      f(x) = \\frac{\\exp(-x^2/2)}{\\sqrt{2\\pi}}\n",
            " |  \n",
            " |  for a real number :math:`x`.\n",
            " |  \n",
            " |  %(after_notes)s\n",
            " |  \n",
            " |  %(example)s\n",
            " |  \n",
            " |  Method resolution order:\n",
            " |      norm_gen\n",
            " |      scipy.stats._distn_infrastructure.rv_continuous\n",
            " |      scipy.stats._distn_infrastructure.rv_generic\n",
            " |      builtins.object\n",
            " |  \n",
            " |  Methods defined here:\n",
            " |  \n",
            " |  fit = wrapper(self, *args, **kwds)\n",
            " |      # if fit method is overridden only for MLE and doesn't specify what to do\n",
            " |      # if method == 'mm', this decorator calls generic implementation\n",
            " |  \n",
            " |  ----------------------------------------------------------------------\n",
            " |  Methods inherited from scipy.stats._distn_infrastructure.rv_continuous:\n",
            " |  \n",
            " |  __getstate__(self)\n",
            " |  \n",
            " |  __init__(self, momtype=1, a=None, b=None, xtol=1e-14, badvalue=None, name=None, longname=None, shapes=None, extradoc=None, seed=None)\n",
            " |      Initialize self.  See help(type(self)) for accurate signature.\n",
            " |  \n",
            " |  cdf(self, x, *args, **kwds)\n",
            " |      Cumulative distribution function of the given RV.\n",
            " |      \n",
            " |      Parameters\n",
            " |      ----------\n",
            " |      x : array_like\n",
            " |          quantiles\n",
            " |      arg1, arg2, arg3,... : array_like\n",
            " |          The shape parameter(s) for the distribution (see docstring of the\n",
            " |          instance object for more information)\n",
            " |      loc : array_like, optional\n",
            " |          location parameter (default=0)\n",
            " |      scale : array_like, optional\n",
            " |          scale parameter (default=1)\n",
            " |      \n",
            " |      Returns\n",
            " |      -------\n",
            " |      cdf : ndarray\n",
            " |          Cumulative distribution function evaluated at `x`\n",
            " |  \n",
            " |  expect(self, func=None, args=(), loc=0, scale=1, lb=None, ub=None, conditional=False, **kwds)\n",
            " |      Calculate expected value of a function with respect to the\n",
            " |      distribution by numerical integration.\n",
            " |      \n",
            " |      The expected value of a function ``f(x)`` with respect to a\n",
            " |      distribution ``dist`` is defined as::\n",
            " |      \n",
            " |                  ub\n",
            " |          E[f(x)] = Integral(f(x) * dist.pdf(x)),\n",
            " |                  lb\n",
            " |      \n",
            " |      where ``ub`` and ``lb`` are arguments and ``x`` has the ``dist.pdf(x)``\n",
            " |      distribution. If the bounds ``lb`` and ``ub`` correspond to the\n",
            " |      support of the distribution, e.g. ``[-inf, inf]`` in the default\n",
            " |      case, then the integral is the unrestricted expectation of ``f(x)``.\n",
            " |      Also, the function ``f(x)`` may be defined such that ``f(x)`` is ``0``\n",
            " |      outside a finite interval in which case the expectation is\n",
            " |      calculated within the finite range ``[lb, ub]``.\n",
            " |      \n",
            " |      Parameters\n",
            " |      ----------\n",
            " |      func : callable, optional\n",
            " |          Function for which integral is calculated. Takes only one argument.\n",
            " |          The default is the identity mapping f(x) = x.\n",
            " |      args : tuple, optional\n",
            " |          Shape parameters of the distribution.\n",
            " |      loc : float, optional\n",
            " |          Location parameter (default=0).\n",
            " |      scale : float, optional\n",
            " |          Scale parameter (default=1).\n",
            " |      lb, ub : scalar, optional\n",
            " |          Lower and upper bound for integration. Default is set to the\n",
            " |          support of the distribution.\n",
            " |      conditional : bool, optional\n",
            " |          If True, the integral is corrected by the conditional probability\n",
            " |          of the integration interval.  The return value is the expectation\n",
            " |          of the function, conditional on being in the given interval.\n",
            " |          Default is False.\n",
            " |      \n",
            " |      Additional keyword arguments are passed to the integration routine.\n",
            " |      \n",
            " |      Returns\n",
            " |      -------\n",
            " |      expect : float\n",
            " |          The calculated expected value.\n",
            " |      \n",
            " |      Notes\n",
            " |      -----\n",
            " |      The integration behavior of this function is inherited from\n",
            " |      `scipy.integrate.quad`. Neither this function nor\n",
            " |      `scipy.integrate.quad` can verify whether the integral exists or is\n",
            " |      finite. For example ``cauchy(0).mean()`` returns ``np.nan`` and\n",
            " |      ``cauchy(0).expect()`` returns ``0.0``.\n",
            " |      \n",
            " |      The function is not vectorized.\n",
            " |      \n",
            " |      Examples\n",
            " |      --------\n",
            " |      \n",
            " |      To understand the effect of the bounds of integration consider\n",
            " |      \n",
            " |      >>> from scipy.stats import expon\n",
            " |      >>> expon(1).expect(lambda x: 1, lb=0.0, ub=2.0)\n",
            " |      0.6321205588285578\n",
            " |      \n",
            " |      This is close to\n",
            " |      \n",
            " |      >>> expon(1).cdf(2.0) - expon(1).cdf(0.0)\n",
            " |      0.6321205588285577\n",
            " |      \n",
            " |      If ``conditional=True``\n",
            " |      \n",
            " |      >>> expon(1).expect(lambda x: 1, lb=0.0, ub=2.0, conditional=True)\n",
            " |      1.0000000000000002\n",
            " |      \n",
            " |      The slight deviation from 1 is due to numerical integration.\n",
            " |  \n",
            " |  fit_loc_scale(self, data, *args)\n",
            " |      Estimate loc and scale parameters from data using 1st and 2nd moments.\n",
            " |      \n",
            " |      Parameters\n",
            " |      ----------\n",
            " |      data : array_like\n",
            " |          Data to fit.\n",
            " |      arg1, arg2, arg3,... : array_like\n",
            " |          The shape parameter(s) for the distribution (see docstring of the\n",
            " |          instance object for more information).\n",
            " |      \n",
            " |      Returns\n",
            " |      -------\n",
            " |      Lhat : float\n",
            " |          Estimated location parameter for the data.\n",
            " |      Shat : float\n",
            " |          Estimated scale parameter for the data.\n",
            " |  \n",
            " |  isf(self, q, *args, **kwds)\n",
            " |      Inverse survival function (inverse of `sf`) at q of the given RV.\n",
            " |      \n",
            " |      Parameters\n",
            " |      ----------\n",
            " |      q : array_like\n",
            " |          upper tail probability\n",
            " |      arg1, arg2, arg3,... : array_like\n",
            " |          The shape parameter(s) for the distribution (see docstring of the\n",
            " |          instance object for more information)\n",
            " |      loc : array_like, optional\n",
            " |          location parameter (default=0)\n",
            " |      scale : array_like, optional\n",
            " |          scale parameter (default=1)\n",
            " |      \n",
            " |      Returns\n",
            " |      -------\n",
            " |      x : ndarray or scalar\n",
            " |          Quantile corresponding to the upper tail probability q.\n",
            " |  \n",
            " |  logcdf(self, x, *args, **kwds)\n",
            " |      Log of the cumulative distribution function at x of the given RV.\n",
            " |      \n",
            " |      Parameters\n",
            " |      ----------\n",
            " |      x : array_like\n",
            " |          quantiles\n",
            " |      arg1, arg2, arg3,... : array_like\n",
            " |          The shape parameter(s) for the distribution (see docstring of the\n",
            " |          instance object for more information)\n",
            " |      loc : array_like, optional\n",
            " |          location parameter (default=0)\n",
            " |      scale : array_like, optional\n",
            " |          scale parameter (default=1)\n",
            " |      \n",
            " |      Returns\n",
            " |      -------\n",
            " |      logcdf : array_like\n",
            " |          Log of the cumulative distribution function evaluated at x\n",
            " |  \n",
            " |  logpdf(self, x, *args, **kwds)\n",
            " |      Log of the probability density function at x of the given RV.\n",
            " |      \n",
            " |      This uses a more numerically accurate calculation if available.\n",
            " |      \n",
            " |      Parameters\n",
            " |      ----------\n",
            " |      x : array_like\n",
            " |          quantiles\n",
            " |      arg1, arg2, arg3,... : array_like\n",
            " |          The shape parameter(s) for the distribution (see docstring of the\n",
            " |          instance object for more information)\n",
            " |      loc : array_like, optional\n",
            " |          location parameter (default=0)\n",
            " |      scale : array_like, optional\n",
            " |          scale parameter (default=1)\n",
            " |      \n",
            " |      Returns\n",
            " |      -------\n",
            " |      logpdf : array_like\n",
            " |          Log of the probability density function evaluated at x\n",
            " |  \n",
            " |  logsf(self, x, *args, **kwds)\n",
            " |      Log of the survival function of the given RV.\n",
            " |      \n",
            " |      Returns the log of the \"survival function,\" defined as (1 - `cdf`),\n",
            " |      evaluated at `x`.\n",
            " |      \n",
            " |      Parameters\n",
            " |      ----------\n",
            " |      x : array_like\n",
            " |          quantiles\n",
            " |      arg1, arg2, arg3,... : array_like\n",
            " |          The shape parameter(s) for the distribution (see docstring of the\n",
            " |          instance object for more information)\n",
            " |      loc : array_like, optional\n",
            " |          location parameter (default=0)\n",
            " |      scale : array_like, optional\n",
            " |          scale parameter (default=1)\n",
            " |      \n",
            " |      Returns\n",
            " |      -------\n",
            " |      logsf : ndarray\n",
            " |          Log of the survival function evaluated at `x`.\n",
            " |  \n",
            " |  nnlf(self, theta, x)\n",
            " |      Negative loglikelihood function.\n",
            " |      \n",
            " |      Notes\n",
            " |      -----\n",
            " |      This is ``-sum(log pdf(x, theta), axis=0)`` where `theta` are the\n",
            " |      parameters (including loc and scale).\n",
            " |  \n",
            " |  pdf(self, x, *args, **kwds)\n",
            " |      Probability density function at x of the given RV.\n",
            " |      \n",
            " |      Parameters\n",
            " |      ----------\n",
            " |      x : array_like\n",
            " |          quantiles\n",
            " |      arg1, arg2, arg3,... : array_like\n",
            " |          The shape parameter(s) for the distribution (see docstring of the\n",
            " |          instance object for more information)\n",
            " |      loc : array_like, optional\n",
            " |          location parameter (default=0)\n",
            " |      scale : array_like, optional\n",
            " |          scale parameter (default=1)\n",
            " |      \n",
            " |      Returns\n",
            " |      -------\n",
            " |      pdf : ndarray\n",
            " |          Probability density function evaluated at x\n",
            " |  \n",
            " |  ppf(self, q, *args, **kwds)\n",
            " |      Percent point function (inverse of `cdf`) at q of the given RV.\n",
            " |      \n",
            " |      Parameters\n",
            " |      ----------\n",
            " |      q : array_like\n",
            " |          lower tail probability\n",
            " |      arg1, arg2, arg3,... : array_like\n",
            " |          The shape parameter(s) for the distribution (see docstring of the\n",
            " |          instance object for more information)\n",
            " |      loc : array_like, optional\n",
            " |          location parameter (default=0)\n",
            " |      scale : array_like, optional\n",
            " |          scale parameter (default=1)\n",
            " |      \n",
            " |      Returns\n",
            " |      -------\n",
            " |      x : array_like\n",
            " |          quantile corresponding to the lower tail probability q.\n",
            " |  \n",
            " |  sf(self, x, *args, **kwds)\n",
            " |      Survival function (1 - `cdf`) at x of the given RV.\n",
            " |      \n",
            " |      Parameters\n",
            " |      ----------\n",
            " |      x : array_like\n",
            " |          quantiles\n",
            " |      arg1, arg2, arg3,... : array_like\n",
            " |          The shape parameter(s) for the distribution (see docstring of the\n",
            " |          instance object for more information)\n",
            " |      loc : array_like, optional\n",
            " |          location parameter (default=0)\n",
            " |      scale : array_like, optional\n",
            " |          scale parameter (default=1)\n",
            " |      \n",
            " |      Returns\n",
            " |      -------\n",
            " |      sf : array_like\n",
            " |          Survival function evaluated at x\n",
            " |  \n",
            " |  ----------------------------------------------------------------------\n",
            " |  Methods inherited from scipy.stats._distn_infrastructure.rv_generic:\n",
            " |  \n",
            " |  __call__(self, *args, **kwds)\n",
            " |      Freeze the distribution for the given arguments.\n",
            " |      \n",
            " |      Parameters\n",
            " |      ----------\n",
            " |      arg1, arg2, arg3,... : array_like\n",
            " |          The shape parameter(s) for the distribution.  Should include all\n",
            " |          the non-optional arguments, may include ``loc`` and ``scale``.\n",
            " |      \n",
            " |      Returns\n",
            " |      -------\n",
            " |      rv_frozen : rv_frozen instance\n",
            " |          The frozen distribution.\n",
            " |  \n",
            " |  __setstate__(self, state)\n",
            " |  \n",
            " |  entropy(self, *args, **kwds)\n",
            " |      Differential entropy of the RV.\n",
            " |      \n",
            " |      Parameters\n",
            " |      ----------\n",
            " |      arg1, arg2, arg3,... : array_like\n",
            " |          The shape parameter(s) for the distribution (see docstring of the\n",
            " |          instance object for more information).\n",
            " |      loc : array_like, optional\n",
            " |          Location parameter (default=0).\n",
            " |      scale : array_like, optional  (continuous distributions only).\n",
            " |          Scale parameter (default=1).\n",
            " |      \n",
            " |      Notes\n",
            " |      -----\n",
            " |      Entropy is defined base `e`:\n",
            " |      \n",
            " |      >>> drv = rv_discrete(values=((0, 1), (0.5, 0.5)))\n",
            " |      >>> np.allclose(drv.entropy(), np.log(2.0))\n",
            " |      True\n",
            " |  \n",
            " |  freeze(self, *args, **kwds)\n",
            " |      Freeze the distribution for the given arguments.\n",
            " |      \n",
            " |      Parameters\n",
            " |      ----------\n",
            " |      arg1, arg2, arg3,... : array_like\n",
            " |          The shape parameter(s) for the distribution.  Should include all\n",
            " |          the non-optional arguments, may include ``loc`` and ``scale``.\n",
            " |      \n",
            " |      Returns\n",
            " |      -------\n",
            " |      rv_frozen : rv_frozen instance\n",
            " |          The frozen distribution.\n",
            " |  \n",
            " |  interval(self, alpha, *args, **kwds)\n",
            " |      Confidence interval with equal areas around the median.\n",
            " |      \n",
            " |      Parameters\n",
            " |      ----------\n",
            " |      alpha : array_like of float\n",
            " |          Probability that an rv will be drawn from the returned range.\n",
            " |          Each value should be in the range [0, 1].\n",
            " |      arg1, arg2, ... : array_like\n",
            " |          The shape parameter(s) for the distribution (see docstring of the\n",
            " |          instance object for more information).\n",
            " |      loc : array_like, optional\n",
            " |          location parameter, Default is 0.\n",
            " |      scale : array_like, optional\n",
            " |          scale parameter, Default is 1.\n",
            " |      \n",
            " |      Returns\n",
            " |      -------\n",
            " |      a, b : ndarray of float\n",
            " |          end-points of range that contain ``100 * alpha %`` of the rv's\n",
            " |          possible values.\n",
            " |  \n",
            " |  mean(self, *args, **kwds)\n",
            " |      Mean of the distribution.\n",
            " |      \n",
            " |      Parameters\n",
            " |      ----------\n",
            " |      arg1, arg2, arg3,... : array_like\n",
            " |          The shape parameter(s) for the distribution (see docstring of the\n",
            " |          instance object for more information)\n",
            " |      loc : array_like, optional\n",
            " |          location parameter (default=0)\n",
            " |      scale : array_like, optional\n",
            " |          scale parameter (default=1)\n",
            " |      \n",
            " |      Returns\n",
            " |      -------\n",
            " |      mean : float\n",
            " |          the mean of the distribution\n",
            " |  \n",
            " |  median(self, *args, **kwds)\n",
            " |      Median of the distribution.\n",
            " |      \n",
            " |      Parameters\n",
            " |      ----------\n",
            " |      arg1, arg2, arg3,... : array_like\n",
            " |          The shape parameter(s) for the distribution (see docstring of the\n",
            " |          instance object for more information)\n",
            " |      loc : array_like, optional\n",
            " |          Location parameter, Default is 0.\n",
            " |      scale : array_like, optional\n",
            " |          Scale parameter, Default is 1.\n",
            " |      \n",
            " |      Returns\n",
            " |      -------\n",
            " |      median : float\n",
            " |          The median of the distribution.\n",
            " |      \n",
            " |      See Also\n",
            " |      --------\n",
            " |      rv_discrete.ppf\n",
            " |          Inverse of the CDF\n",
            " |  \n",
            " |  moment(self, n, *args, **kwds)\n",
            " |      n-th order non-central moment of distribution.\n",
            " |      \n",
            " |      Parameters\n",
            " |      ----------\n",
            " |      n : int, n >= 1\n",
            " |          Order of moment.\n",
            " |      arg1, arg2, arg3,... : float\n",
            " |          The shape parameter(s) for the distribution (see docstring of the\n",
            " |          instance object for more information).\n",
            " |      loc : array_like, optional\n",
            " |          location parameter (default=0)\n",
            " |      scale : array_like, optional\n",
            " |          scale parameter (default=1)\n",
            " |  \n",
            " |  rvs(self, *args, **kwds)\n",
            " |      Random variates of given type.\n",
            " |      \n",
            " |      Parameters\n",
            " |      ----------\n",
            " |      arg1, arg2, arg3,... : array_like\n",
            " |          The shape parameter(s) for the distribution (see docstring of the\n",
            " |          instance object for more information).\n",
            " |      loc : array_like, optional\n",
            " |          Location parameter (default=0).\n",
            " |      scale : array_like, optional\n",
            " |          Scale parameter (default=1).\n",
            " |      size : int or tuple of ints, optional\n",
            " |          Defining number of random variates (default is 1).\n",
            " |      random_state : {None, int, `numpy.random.Generator`,\n",
            " |                      `numpy.random.RandomState`}, optional\n",
            " |      \n",
            " |          If `seed` is None (or `np.random`), the `numpy.random.RandomState`\n",
            " |          singleton is used.\n",
            " |          If `seed` is an int, a new ``RandomState`` instance is used,\n",
            " |          seeded with `seed`.\n",
            " |          If `seed` is already a ``Generator`` or ``RandomState`` instance\n",
            " |          then that instance is used.\n",
            " |      \n",
            " |      Returns\n",
            " |      -------\n",
            " |      rvs : ndarray or scalar\n",
            " |          Random variates of given `size`.\n",
            " |  \n",
            " |  stats(self, *args, **kwds)\n",
            " |      Some statistics of the given RV.\n",
            " |      \n",
            " |      Parameters\n",
            " |      ----------\n",
            " |      arg1, arg2, arg3,... : array_like\n",
            " |          The shape parameter(s) for the distribution (see docstring of the\n",
            " |          instance object for more information)\n",
            " |      loc : array_like, optional\n",
            " |          location parameter (default=0)\n",
            " |      scale : array_like, optional (continuous RVs only)\n",
            " |          scale parameter (default=1)\n",
            " |      moments : str, optional\n",
            " |          composed of letters ['mvsk'] defining which moments to compute:\n",
            " |          'm' = mean,\n",
            " |          'v' = variance,\n",
            " |          's' = (Fisher's) skew,\n",
            " |          'k' = (Fisher's) kurtosis.\n",
            " |          (default is 'mv')\n",
            " |      \n",
            " |      Returns\n",
            " |      -------\n",
            " |      stats : sequence\n",
            " |          of requested moments.\n",
            " |  \n",
            " |  std(self, *args, **kwds)\n",
            " |      Standard deviation of the distribution.\n",
            " |      \n",
            " |      Parameters\n",
            " |      ----------\n",
            " |      arg1, arg2, arg3,... : array_like\n",
            " |          The shape parameter(s) for the distribution (see docstring of the\n",
            " |          instance object for more information)\n",
            " |      loc : array_like, optional\n",
            " |          location parameter (default=0)\n",
            " |      scale : array_like, optional\n",
            " |          scale parameter (default=1)\n",
            " |      \n",
            " |      Returns\n",
            " |      -------\n",
            " |      std : float\n",
            " |          standard deviation of the distribution\n",
            " |  \n",
            " |  support(self, *args, **kwargs)\n",
            " |      Support of the distribution.\n",
            " |      \n",
            " |      Parameters\n",
            " |      ----------\n",
            " |      arg1, arg2, ... : array_like\n",
            " |          The shape parameter(s) for the distribution (see docstring of the\n",
            " |          instance object for more information).\n",
            " |      loc : array_like, optional\n",
            " |          location parameter, Default is 0.\n",
            " |      scale : array_like, optional\n",
            " |          scale parameter, Default is 1.\n",
            " |      \n",
            " |      Returns\n",
            " |      -------\n",
            " |      a, b : array_like\n",
            " |          end-points of the distribution's support.\n",
            " |  \n",
            " |  var(self, *args, **kwds)\n",
            " |      Variance of the distribution.\n",
            " |      \n",
            " |      Parameters\n",
            " |      ----------\n",
            " |      arg1, arg2, arg3,... : array_like\n",
            " |          The shape parameter(s) for the distribution (see docstring of the\n",
            " |          instance object for more information)\n",
            " |      loc : array_like, optional\n",
            " |          location parameter (default=0)\n",
            " |      scale : array_like, optional\n",
            " |          scale parameter (default=1)\n",
            " |      \n",
            " |      Returns\n",
            " |      -------\n",
            " |      var : float\n",
            " |          the variance of the distribution\n",
            " |  \n",
            " |  ----------------------------------------------------------------------\n",
            " |  Data descriptors inherited from scipy.stats._distn_infrastructure.rv_generic:\n",
            " |  \n",
            " |  __dict__\n",
            " |      dictionary for instance variables (if defined)\n",
            " |  \n",
            " |  __weakref__\n",
            " |      list of weak references to the object (if defined)\n",
            " |  \n",
            " |  random_state\n",
            " |      Get or set the generator object for generating random variates.\n",
            " |      \n",
            " |      If `seed` is None (or `np.random`), the `numpy.random.RandomState`\n",
            " |      singleton is used.\n",
            " |      If `seed` is an int, a new ``RandomState`` instance is used,\n",
            " |      seeded with `seed`.\n",
            " |      If `seed` is already a ``Generator`` or ``RandomState`` instance then\n",
            " |      that instance is used.\n",
            "\n"
          ]
        }
      ]
    },
    {
      "cell_type": "code",
      "source": [
        "# Would like to write a function that can help in calculating a lot of there normal distribution problems\n",
        "def get_norm_probability(mu: float, std: float, val1:float, val2:float = None, boundary_type: str='greater')-> float:\n",
        "  \"\"\"\n",
        "  Gets probability of a value occurring from a normal distribution\n",
        "  Uses scipy.stats.norm module for creatign distributions/calculating probability integrals\n",
        "  \n",
        "  parameters:\n",
        "    mu (float): distribution mean\n",
        "    std (float): distribution std dev\n",
        "    val1 (float): value around which probabilities should be calculates\n",
        "    val2 (float); default None): if boundary_tyep == 'between', the second value between which (and val1) the probability should be calculated\n",
        "    boundary_type (str): greater, lesser, between; the part of the distribution (around val 1 or 2) where we should calculate the probability\n",
        "  \"\"\"\n",
        "  x = np.arange(mu - (-3 * std), mu * (3 * std), mu / 100)\n",
        "  dist = norm(mu, std)\n",
        "  prib = 0.0\n",
        "  if boundary_type=='greater':\n",
        "    prob =  1 - dist.cdf(val1)\n",
        "\n",
        "  elif boundary_type == 'lesser':\n",
        "    prob =  dist.cdf(val1)\n",
        "\n",
        "  elif boundary_type == 'between':\n",
        "    prob =  abs(dist.cdf(val1) - dist.cdf(val2))\n",
        "\n",
        "  else:\n",
        "    raise(ValueError, \"Bad boundary type provided\")\n",
        "\n",
        "  return round(prob, 4)\n",
        "\n"
      ],
      "metadata": {
        "id": "UzJNHA60eSSq"
      },
      "execution_count": 67,
      "outputs": []
    },
    {
      "cell_type": "markdown",
      "source": [
        "\n",
        "1. \tThe weights of steers in a herd are distributed normally.  The variance is 40,000 and the mean steer weight is 1300 lbs.  Find the probability that the weight of a randomly selected steer is greater than 979 lbs. (Round your answer to 4 decimal places)"
      ],
      "metadata": {
        "id": "EYZJp9GTWcOa"
      }
    },
    {
      "cell_type": "code",
      "execution_count": 63,
      "metadata": {
        "colab": {
          "base_uri": "https://localhost:8080/"
        },
        "id": "2WrTMUa7WVP6",
        "outputId": "16583259-3948-4e8e-d63a-965636f3c56b"
      },
      "outputs": [
        {
          "output_type": "stream",
          "name": "stdout",
          "text": [
            "0.9458\n"
          ]
        }
      ],
      "source": [
        "\n",
        "steer_prob = get_norm_probability(1300., 200., 979.)\n",
        "print(steer_prob)\n"
      ]
    },
    {
      "cell_type": "markdown",
      "source": [
        "2. SVGA monitors manufactured by TSI Electronics have life spans that have a normal distribution with a variance of 1,960,000 and a mean life span of 11,000 hours.  If a SVGA monitor is selected at random, find the probability that the life span of the monitor will be more than 8340 hours. (Round your answer to 4 decimal places)\n"
      ],
      "metadata": {
        "id": "akrgbkxoWcQv"
      }
    },
    {
      "cell_type": "code",
      "source": [
        "tv_prob = get_norm_probability(mu=11000., std=np.sqrt(1_960_000), val1=8340)\n",
        "print(tv_prob)\n"
      ],
      "metadata": {
        "colab": {
          "base_uri": "https://localhost:8080/"
        },
        "id": "pDC9me2_hUOp",
        "outputId": "bdb20bb8-2849-453d-f7ef-6f01aca5a280"
      },
      "execution_count": 64,
      "outputs": [
        {
          "output_type": "stream",
          "name": "stdout",
          "text": [
            "0.9713\n"
          ]
        }
      ]
    },
    {
      "cell_type": "markdown",
      "source": [
        "3. \tSuppose the mean income of firms in the industry for a year is 80 million dollars with a standard deviation of 3 million dollars.  If incomes for the industry are distributed normally, what is the probability that a randomly selected firm will earn between 83 and 85 million dollars? (Round your answer to 4 decimal places)\n"
      ],
      "metadata": {
        "id": "mS0p4T_7h6Pw"
      }
    },
    {
      "cell_type": "code",
      "source": [
        "inc_prob = get_norm_probability(mu=80_000_000., std=3_000_000., val1=83_000_000., val2=85_000_000., boundary_type='between')\n",
        "print(inc_prob)"
      ],
      "metadata": {
        "colab": {
          "base_uri": "https://localhost:8080/"
        },
        "id": "QAT9GboZhuz3",
        "outputId": "15112255-5e4c-4eb5-a3cf-6fb2fb0fec88"
      },
      "execution_count": 69,
      "outputs": [
        {
          "output_type": "stream",
          "name": "stdout",
          "text": [
            "0.1109\n"
          ]
        }
      ]
    },
    {
      "cell_type": "markdown",
      "source": [
        "\n",
        "4. \tSuppose GRE Verbal scores are normally distributed with a mean of 456 and a standard deviation of 123.  A university plans to offer tutoring jobs to students whose scores are in the top 14%.  What is the minimum score required for the job offer?  Round your answer to the nearest whole number, if necessary."
      ],
      "metadata": {
        "id": "mDssRMFmikL5"
      }
    },
    {
      "cell_type": "code",
      "source": [
        "# Our function doesn't do us much good here as we need to find the value from the percentile\n",
        "x = np.arange(50, 650, 1)\n",
        "mu = 456\n",
        "std = 123\n",
        "\n",
        "# Since we want the top 14% of grades, we'll want to find where the 86th opercentile lies (100th percentile - 14%)\n",
        "# Using scipy.stats.norm.ppf function which inverts the cdf method we used above\n",
        "grade = round(norm.ppf(0.86, 456, 123), 0)\n",
        "\n",
        "\n",
        "print(grade)"
      ],
      "metadata": {
        "colab": {
          "base_uri": "https://localhost:8080/"
        },
        "id": "7rRolMIjiGJa",
        "outputId": "e6cdc9cb-5202-46a7-f466-ccc12d084442"
      },
      "execution_count": 79,
      "outputs": [
        {
          "output_type": "stream",
          "name": "stdout",
          "text": [
            "589.0\n"
          ]
        }
      ]
    },
    {
      "cell_type": "markdown",
      "source": [
        "5. \tThe lengths of nails produced in a factory are normally distributed with a mean of 6.13 centimeters and a standard deviation of 0.06 centimeters.  Find the two lengths that separate the top 7% and the bottom 7%.  These lengths could serve as limits used to identify which nails should be rejected.  Round your answer to the nearest hundredth, if necessary.\n"
      ],
      "metadata": {
        "id": "nMvH7s-yiGSf"
      }
    },
    {
      "cell_type": "code",
      "source": [
        "nails_dist = norm(6.13, 0.06)\n",
        "print(nails_dist)\n",
        "lower_bound = round(nails_dist.ppf(0.07), 2)\n",
        "upper_bound = round(nails_dist.ppf(0.93), 2)\n",
        "print(f\"Lower Bound length: {lower_bound}\")\n",
        "print(f\"Upper Bound length: {upper_bound}\")"
      ],
      "metadata": {
        "colab": {
          "base_uri": "https://localhost:8080/"
        },
        "id": "x1dgtosLkF5w",
        "outputId": "ec54cb45-380c-4424-ff4a-44d29e5218af"
      },
      "execution_count": 82,
      "outputs": [
        {
          "output_type": "stream",
          "name": "stdout",
          "text": [
            "<scipy.stats._distn_infrastructure.rv_frozen object at 0x7f49f62dde10>\n",
            "Lower Bound length: 6.04\n",
            "Upper Bound length: 6.22\n"
          ]
        }
      ]
    },
    {
      "cell_type": "markdown",
      "source": [
        "6. \tAn English professor assigns letter grades on a test according to the following scheme.\n",
        "\t- A:  Top 13% of scores\n",
        "\t- B:  Scores below the top 13% and above the bottom 55%\n",
        "\t- C:  Scores below the top 45% and above the bottom 20%\n",
        "\t- D:  Scores below the top 80% and above the bottom 9%\n",
        "\t- F:  Bottom 9% of scores    \n",
        "\n",
        "Scores on the test are normally distributed with a mean of 78.8 and a standard deviation of 9.8.  Find the numerical limits for a C grade.  Round your answers to the nearest whole number, if necessary."
      ],
      "metadata": {
        "id": "f0UnAL3qk093"
      }
    },
    {
      "cell_type": "code",
      "source": [
        "# Similar steps as above, but changing the bounds\n",
        "# Need to find between \n",
        "grades_dist = norm(78.8, 9.8)\n",
        "lower_bound = round(grades_dist.ppf(0.2), 0)\n",
        "upper_bound = round(grades_dist.ppf(0.55), 0)\n",
        "\n",
        "# Looks like a C grade is between a 71 and 80\n",
        "print(f\"Lower Bound length: {lower_bound}\")\n",
        "print(f\"Upper Bound length: {upper_bound}\")"
      ],
      "metadata": {
        "colab": {
          "base_uri": "https://localhost:8080/"
        },
        "id": "gQ1nSjcykg_j",
        "outputId": "4b15835f-4101-40bc-9ca0-c5d049a41365"
      },
      "execution_count": 85,
      "outputs": [
        {
          "output_type": "stream",
          "name": "stdout",
          "text": [
            "Lower Bound length: 71.0\n",
            "Upper Bound length: 80.0\n"
          ]
        }
      ]
    },
    {
      "cell_type": "markdown",
      "source": [
        "7. \tSuppose ACT Composite scores are normally distributed with a mean of 21.2 and a standard deviation of 5.4.  A university plans to admit students whose scores are in the top 45%.  What is the minimum score required for admission?  Round your answer to the nearest tenth, if necessary.\n"
      ],
      "metadata": {
        "id": "y542wlH-lSKL"
      }
    },
    {
      "cell_type": "code",
      "source": [
        "# Need to find the 55th percentile because only the top 45% get in\n",
        "act_dist = norm(21.2, 5.4)\n",
        "lower_bound = round(act_dist.ppf(0.55), 0)\n",
        "\n",
        "# 22 it is. Looks like a reasonable answer as nearly 50% of students get in and the mean of this normal dist is 21.2\n",
        "print(f\"Lower Bound length: {lower_bound}\")"
      ],
      "metadata": {
        "colab": {
          "base_uri": "https://localhost:8080/"
        },
        "id": "n5M3lb-AlK9c",
        "outputId": "2c619217-af0a-4255-8829-f2ceef27f189"
      },
      "execution_count": 87,
      "outputs": [
        {
          "output_type": "stream",
          "name": "stdout",
          "text": [
            "Lower Bound length: 22.0\n"
          ]
        }
      ]
    },
    {
      "cell_type": "markdown",
      "source": [
        "8. \tConsider the probability that less than 11 out of 151 students will not graduate on time.  Assume the probability that a given student will not graduate on time is 9%.  Approximate the probability using the normal distribution. (Round your answer to 4 decimal places.)"
      ],
      "metadata": {
        "id": "K4pJ_FyXl5VZ"
      }
    },
    {
      "cell_type": "code",
      "source": [
        "# Need to calculate mean and std dev for this normal dist\n",
        "mu = 151 * 0.09\n",
        "std = np.sqrt((151*0.09*(1-0.09)))\n",
        "\n",
        "print(f'Distribution avg: {mu}')\n",
        "print(f\"Std Dev: {std}\")\n",
        "\n",
        "# So on avergae, about 13 students out of a group of 151 are not expected to graduate\n",
        "grad_prob = get_norm_probability(mu, std, 11, boundary_type='lesser')\n",
        "print(f\"The probability of less than 11 students failing to graduate is: {grad_prob}\")\n"
      ],
      "metadata": {
        "colab": {
          "base_uri": "https://localhost:8080/"
        },
        "id": "3F6HfbJ6lsd7",
        "outputId": "b976bfb8-5080-4a49-b020-a1b999b1e346"
      },
      "execution_count": 92,
      "outputs": [
        {
          "output_type": "stream",
          "name": "stdout",
          "text": [
            "Distribution avg: 13.59\n",
            "Std Dev: 3.5166603475456655\n",
            "The probability of less than 11 students failing to graduate is: 0.2307\n"
          ]
        }
      ]
    },
    {
      "cell_type": "markdown",
      "source": [
        "9. \tThe mean lifetime of a tire is 48 months with a standard deviation of 7.  If 147 tires are sampled, what is the probability that the mean of the sample would be greater than 48.83 months? (Round your answer to 4 decimal places)\n",
        "\n",
        "*Full transparency I'm implementing the method used in [this video](https://www.youtube.com/watch?v=9twCAv3wlk4) to calculate this. "
      ],
      "metadata": {
        "id": "ZdHf005BorLE"
      }
    },
    {
      "cell_type": "code",
      "source": [
        "tire_mean = 48.\n",
        "tire_std = 7.\n",
        "n = 147\n",
        "\n",
        "new_std = (tire_std / np.sqrt(n))\n",
        "\n",
        "# Calculating a z-score\n",
        "Z = (48.83 - 48) / (new_std)\n",
        "print(Z)\n",
        "\n",
        "# Need to find area under the curve to the right of our Z-score\n",
        "# Calculating probability from our standard distribution and Z-score\n",
        "prob = 1 - norm.cdf(Z)\n",
        "tire_prob = round(prob, 4)\n",
        "print(f\"Prbability: {tire_prob}\")\n"
      ],
      "metadata": {
        "colab": {
          "base_uri": "https://localhost:8080/"
        },
        "id": "JOha6szcnhGX",
        "outputId": "b8312fbe-f7c9-408c-da23-e8eb0145cff7"
      },
      "execution_count": 118,
      "outputs": [
        {
          "output_type": "stream",
          "name": "stdout",
          "text": [
            "1.4376021702821653\n",
            "Prbability: 0.0753\n"
          ]
        }
      ]
    },
    {
      "cell_type": "markdown",
      "source": [
        "10. \tThe quality control manager at a computer manufacturing company believes that the mean life of a computer is 91 months, with a standard deviation of 10.  If he is correct, what is the probability that the mean of a sample of 68 computers would be greater than 93.54 months? (Round your answer to 4 decimal places)\n"
      ],
      "metadata": {
        "id": "zs0kS_czsCQi"
      }
    },
    {
      "cell_type": "code",
      "source": [
        "# getting another Z score\n",
        "new_std = (10 / np.sqrt(68))\n",
        "Z = (93.54 - 91) / new_std\n",
        "\n",
        "print(Z)\n",
        "\n",
        "# Calculating probability from our standard distribution and Z-score\n",
        "prob = 1 - norm.cdf(Z)\n",
        "print(f\"Probability: {prob}\")"
      ],
      "metadata": {
        "colab": {
          "base_uri": "https://localhost:8080/"
        },
        "id": "f5EYvAR6qSQj",
        "outputId": "14e2f86c-938f-4fd1-db06-09823977ff13"
      },
      "execution_count": 119,
      "outputs": [
        {
          "output_type": "stream",
          "name": "stdout",
          "text": [
            "2.0945376578137767\n",
            "Probability: 0.018106056057449083\n"
          ]
        }
      ]
    },
    {
      "cell_type": "markdown",
      "source": [
        "11. \tA director of reservations believes that 7% of the ticketed passengers are no-shows.  If the director is right, what is the probability that the proportion of no-shows in a sample of 540 ticketed passengers would differ from the population proportion by less than 3%? (Round your answer to 4 decimal places)\n"
      ],
      "metadata": {
        "id": "_A3BFRJDueTj"
      }
    },
    {
      "cell_type": "code",
      "source": [
        "n = 540\n",
        "mu = 0.07\n",
        "\n",
        "new_mu = n * mu\n",
        "new_std =  np.sqrt(new_mu * (1 - mu))\n",
        "\n",
        "print(\"New summary stats:\", new_mu, new_std)\n",
        "\n",
        "delta = 0.03 * n\n",
        "lower_bound = (mu - 0.03) * n #new_mu - delta\n",
        "upper_bound = (mu + 0.03) * n #new_mu + delta\n",
        "print(delta)\n",
        "# We would expect ~38 no-shows with a std dev of ~5.9 in a sample of 540 from our 'population'\n",
        "\n",
        "noshow_prob = get_norm_probability(new_mu, new_std, val1=lower_bound, val2=upper_bound, boundary_type='between')\n",
        "print(f\"The probability of the no-show rate being within 3% of the : {noshow_prob}\")"
      ],
      "metadata": {
        "colab": {
          "base_uri": "https://localhost:8080/"
        },
        "id": "m9iiTG0_s9Gp",
        "outputId": "19779ec5-8564-4db3-c091-dadb8dcdd28a"
      },
      "execution_count": 134,
      "outputs": [
        {
          "output_type": "stream",
          "name": "stdout",
          "text": [
            "New summary stats: 37.800000000000004 5.929080873120218\n",
            "16.2\n",
            "The probability of the no-show rate being within 3% of the : 0.9937\n"
          ]
        }
      ]
    },
    {
      "cell_type": "markdown",
      "source": [
        "2. \tA bottle maker believes that 23% of his bottles are defective.  If the bottle maker is accurate, what is the probability that the proportion of defective bottles in a sample of 602 bottles would differ from the population proportion by greater than 4%? (Round your answer to 4 decimal places)"
      ],
      "metadata": {
        "id": "gMppKwj4wYNj"
      }
    },
    {
      "cell_type": "code",
      "source": [
        "n = 602\n",
        "mu = 0.23\n",
        "\n",
        "new_mu = n * mu\n",
        "new_std =  np.sqrt(new_mu * (1 - mu))\n",
        "\n",
        "print(\"New summary stats:\", new_mu, new_std)\n",
        "\n",
        "delta = 0.03 * n\n",
        "lower_bound = (mu - 0.03) * n #new_mu - delta\n",
        "# upper_bound = (mu + 0.03) * n #new_mu + delta\n",
        "print(delta)\n",
        "# We would expect ~38 no-shows with a std dev of ~5.9 in a sample of 540 from our 'population'\n",
        "\n",
        "bottle_prob = get_norm_probability(new_mu, new_std, val1=lower_bound, boundary_type='greater')\n",
        "print(f\"The probability of the proportion of defective bottles being greater than the population proportion by 4% or more is: {bottle_prob}\")"
      ],
      "metadata": {
        "colab": {
          "base_uri": "https://localhost:8080/"
        },
        "id": "Ay3jdK_JuzqS",
        "outputId": "fb19664c-a2e6-4d27-8993-845a64997ca7"
      },
      "execution_count": 136,
      "outputs": [
        {
          "output_type": "stream",
          "name": "stdout",
          "text": [
            "New summary stats: 138.46 10.325415245887209\n",
            "18.06\n",
            "The probability of the proportion of defective bottles being greater than the population proportion by 4% or more is: 0.9599\n"
          ]
        }
      ]
    },
    {
      "cell_type": "markdown",
      "source": [
        "13. \tA research company desires to know the mean consumption of beef per week among males over age 48.  Suppose a sample of size 208 is drawn with $\\bar x = 3.9$ assuming $\\sigma = 0.8$ .  Construct the 80% confidence interval for the mean number of lb. of beef per week among males over 48. (Round your answers to 1 decimal place)\n",
        "\n",
        "\n",
        "$x= \\pm  z (\\frac{s}{\\sqrt n})$\n",
        "\n",
        "Looking up z statistics in [this table](http://www.z-table.com)"
      ],
      "metadata": {
        "id": "AGzlDXdW0XRh"
      }
    },
    {
      "cell_type": "code",
      "source": [
        "n = 208\n",
        "xbar = 3.9\n",
        "s = 0.8\n",
        "z = 1.28\n",
        "\n",
        "lower_bound = round(xbar - z * (s / np.sqrt(n)), 1)\n",
        "upper_bound = round(xbar + z * (s / np.sqrt(n)), 1)\n",
        "print(lower_bound)\n",
        "print(upper_bound)\n"
      ],
      "metadata": {
        "colab": {
          "base_uri": "https://localhost:8080/"
        },
        "id": "91V5yNmwwk1j",
        "outputId": "d005d82a-b03b-496a-a6dd-094f0cee646c"
      },
      "execution_count": 149,
      "outputs": [
        {
          "output_type": "stream",
          "name": "stdout",
          "text": [
            "3.8\n",
            "4.0\n"
          ]
        }
      ]
    },
    {
      "cell_type": "markdown",
      "source": [
        "14.\tAn economist wants to estimate the mean per capita income (in thousands of dollars) in a major city in California.  Suppose a sample of size 7472 is drawn with $\\bar x = 16.6$ Assume $r = 11$ Construct the 98% confidence interval for the mean per capita income. (Round your answers to 1 decimal place) "
      ],
      "metadata": {
        "id": "3qWPh0-b32o8"
      }
    },
    {
      "cell_type": "code",
      "source": [
        "n = 7472\n",
        "xbar = 16.6\n",
        "s = 11\n",
        "z = 2.25\n",
        "\n",
        "lower_bound = round(xbar - z * (s / np.sqrt(n)), 1)\n",
        "upper_bound = round(xbar + z * (s / np.sqrt(n)), 1)\n",
        "print(lower_bound)\n",
        "print(upper_bound)"
      ],
      "metadata": {
        "colab": {
          "base_uri": "https://localhost:8080/"
        },
        "id": "Ex5NcEUI1wXg",
        "outputId": "f65a2af3-713f-4ecd-ccd6-43fe7a7ee4f4"
      },
      "execution_count": 150,
      "outputs": [
        {
          "output_type": "stream",
          "name": "stdout",
          "text": [
            "16.3\n",
            "16.9\n"
          ]
        }
      ]
    },
    {
      "cell_type": "markdown",
      "source": [
        "15. \tFind the value of t such that 0.05 of the area under the curve is to the left of t.  Assume the degrees of freedom equals 26.\n",
        "\n",
        "![Screen Shot 2022-07-25 at 8.35.20 PM.png](data:image/png;base64,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)\n",
        "\n",
        "\n",
        "\n",
        "\n",
        "The  upper right-hand picture describes this problem best."
      ],
      "metadata": {
        "id": "AkXZ65MH7ZAO"
      }
    },
    {
      "cell_type": "code",
      "source": [
        "# using scipy.stats built-in t-score functionality\n",
        "scipy.stats.t.ppf(0.05, 26)"
      ],
      "metadata": {
        "colab": {
          "base_uri": "https://localhost:8080/"
        },
        "id": "i59gfS5H4xul",
        "outputId": "95f924a1-3acb-40a6-8af9-3937616da334"
      },
      "execution_count": 152,
      "outputs": [
        {
          "output_type": "execute_result",
          "data": {
            "text/plain": [
              "-1.7056179197592731"
            ]
          },
          "metadata": {},
          "execution_count": 152
        }
      ]
    },
    {
      "cell_type": "markdown",
      "source": [
        "16. \tThe following measurements ( in picocuries per liter ) were recorded by a set of helium gas detectors installed in a laboratory facility:  \n",
        "`383.6, 347.1, 371.9, 347.6, 325.8, 337`\n",
        "\n",
        "\n",
        "Using these measurements, construct a 90% confidence interval for the mean level of helium gas present in the facility.  Assume the population is normally distributed.  \n",
        "\n",
        "- Step 1. Calculate the sample mean for the given sample data. (Round answer to 2 decimal places) \n",
        "\n",
        "- Step 2. Calculate the sample standard deviation for the given sample data. (Round answer to 2 decimal places) \n",
        "\n",
        "- Step 3. Find the critical value that should be used in constructing the confidence interval. (Round answer to 3 decimal places) \n",
        "\n",
        "- Step 4. Construct the 90% confidence interval. (Round answer to 2 decimal places)\n"
      ],
      "metadata": {
        "id": "CpNWM9Wq8neX"
      }
    },
    {
      "cell_type": "code",
      "source": [
        "measurements = np.array([383.6, 347.1, 371.9, 347.6, 325.8, 337])\n",
        "n = measurements.size\n",
        "dof = n -1\n",
        "# Step 1\n",
        "mu = np.mean(measurements)\n",
        "print(f\"Mean value: {round(mu, 2)}\")\n",
        "\n",
        "# Step 2\n",
        "sd = np.std(measurements)\n",
        "print(f\"Sampel std dev: {round(sd, 2)}\")\n",
        "\n",
        "# Step 3 -- since n < 30, we'll find t-statistic for this sample\n",
        "t = round(abs(scipy.stats.t.ppf(0.1, dof)), 3)\n",
        "print(f\"t-statistic: {t}\")\n",
        "\n",
        "\n",
        "# Step 4\n",
        "lower_bound = round((mu - t * (sd / np.sqrt(n))), 2)\n",
        "upper_bound = round((mu + t * (sd / np.sqrt(n))), 2)\n",
        "print(f\"Confidence interval lower bound: {lower_bound}\")\n",
        "print(f\"Confidence interval upper bound: {upper_bound}\")\n"
      ],
      "metadata": {
        "colab": {
          "base_uri": "https://localhost:8080/"
        },
        "id": "fuykyOZG8A0m",
        "outputId": "6e55a2da-6a93-4901-9e2d-d6b69e1d98b9"
      },
      "execution_count": 171,
      "outputs": [
        {
          "output_type": "stream",
          "name": "stdout",
          "text": [
            "Mean value: 352.17\n",
            "Sampel std dev: 19.79\n",
            "t-statistic: 1.476\n",
            "Confidence interval lower bound: 340.24\n",
            "Confidence interval upper bound: 364.09\n"
          ]
        }
      ]
    },
    {
      "cell_type": "markdown",
      "source": [
        "17. \tA random sample of 16 fields of spring wheat has a mean yield of 46.4 bushels per acre and standard deviation of 2.45 bushels per acre.  Determine the 80% confidence interval for the true mean yield.  Assume the population is normally distributed.  \n",
        "\n",
        "Step 1. Find the critical value that should be used in constructing the confidence interval. (Round answer to 3 decimal places) \n",
        "\n",
        "\n",
        "Step 2. Construct the 80% confidence interval. (Round answer to 1 decimal place)"
      ],
      "metadata": {
        "id": "JEuHRRUBA9Gq"
      }
    },
    {
      "cell_type": "code",
      "source": [
        "crit_value = round(abs(scipy.stats.t.ppf(0.1, 15)), 3)\n",
        "print(\"t-statistic: \", crit_value)\n",
        "\n",
        "# Step 2\n",
        "n = 16\n",
        "dof = n - 1\n",
        "xbar = 46.4\n",
        "sd = 2.45\n",
        "\n",
        "lower_bound = round((xbar - crit_value * (sd / np.sqrt(n))), 1)\n",
        "upper_bound = round((xbar + crit_value * (sd / np.sqrt(n))), 1)\n",
        "print(f\"Confidence interval lower bound: {lower_bound}\")\n",
        "print(f\"Confidence interval upper bound: {upper_bound}\")"
      ],
      "metadata": {
        "colab": {
          "base_uri": "https://localhost:8080/"
        },
        "id": "GL6r0-r08-g2",
        "outputId": "9364a45a-97de-41f8-bedb-4a001fa6f78e"
      },
      "execution_count": 170,
      "outputs": [
        {
          "output_type": "stream",
          "name": "stdout",
          "text": [
            "t-statistic:  1.341\n",
            "Confidence interval lower bound: 45.6\n",
            "Confidence interval upper bound: 47.2\n"
          ]
        }
      ]
    },
    {
      "cell_type": "markdown",
      "source": [
        "18. \tA toy manufacturer wants to know how many new toys children buy each year. She thinks the mean is 8 toys per year. Assume a previous study found the standard deviation to be 1.9. How large of a sample would be required in order to estimate the mean number of toys bought per child at the 99% confidence level with an error of at most 0.13 toys? (Round your answer up to the next integer)\n",
        "\n",
        "Using the [formula](https://www.youtube.com/watch?v=FzuvdsGzxds) $n = (z * \\frac{\\sigma}{SE})^2$. Where $SE$ is our standard error"
      ],
      "metadata": {
        "id": "5aP2C-LACFEO"
      }
    },
    {
      "cell_type": "code",
      "source": [
        "z = 2.33\n",
        "sigma = 1.9\n",
        "error = 0.13\n",
        "n = (z * (sigma / error))**2\n",
        "\n",
        "print(int(n))"
      ],
      "metadata": {
        "colab": {
          "base_uri": "https://localhost:8080/"
        },
        "id": "ZaQpAvNy_JoK",
        "outputId": "ebabad96-f867-455d-e062-aa1aed00110a"
      },
      "execution_count": 177,
      "outputs": [
        {
          "output_type": "stream",
          "name": "stdout",
          "text": [
            "1159\n"
          ]
        }
      ]
    },
    {
      "cell_type": "markdown",
      "source": [
        "\n",
        "19. \tA research scientist wants to know how many times per hour a certain strand of bacteria reproduces.  He believes that the mean is 12.6.  Assume the variance is known to be 3.61.  How large of a sample would be required in order to estimate the mean number of reproductions per hour at the 95% confidence level with an error of at most 0.19 reproductions? (Round your answer up to the next integer)"
      ],
      "metadata": {
        "id": "yRi5rjHuEGgg"
      }
    },
    {
      "cell_type": "code",
      "source": [
        "z = 1.96 # Z-score for a 95% confidence interval\n",
        "sigma = np.sqrt(3.61)\n",
        "error = 0.19\n",
        "n = (z * (sigma / error))**2\n",
        "\n",
        "\n",
        "print(int(n))\n"
      ],
      "metadata": {
        "colab": {
          "base_uri": "https://localhost:8080/"
        },
        "id": "BqdVHgZdChY4",
        "outputId": "9149b173-06e3-483a-b638-c36f292d61e0"
      },
      "execution_count": 179,
      "outputs": [
        {
          "output_type": "stream",
          "name": "stdout",
          "text": [
            "384\n"
          ]
        }
      ]
    },
    {
      "cell_type": "markdown",
      "source": [
        "20. The state education commission wants to estimate the fraction of tenth grade students that have reading skills at or below the eighth grade level.\n",
        "\n",
        "    1. Suppose a sample of 2089 tenth graders is drawn. Of the students sampled, 1734 read above the eighth grade level.  Using the data, estimate the proportion of tenth graders reading at or below the eighth grade level. (Write your answer as a fraction or a decimal number rounded to 3 decimal places) \n",
        "\n",
        "    2. Suppose a sample of 2089 tenth graders is drawn.  Of the students sampled, 1734 read above the eighth grade level.\n",
        "\n",
        "Using the data, construct the 98% confidence interval for the population proportion of tenth graders reading at or below the eighth grade level. (Round your answers to 3 decimal places)\n",
        "\n",
        "\n",
        "Using [formula](https://www.rit.edu/academicsuccesscenter/sites/rit.edu.academicsuccesscenter/files/documents/math-handouts/S3_HowtoConstructAConfidenceInterval_NEW_BP_9_22_14.pdf)\n",
        "\n",
        "\n",
        "\n",
        "\n",
        "\n"
      ],
      "metadata": {
        "id": "mMdeMi_fFdQH"
      }
    },
    {
      "cell_type": "code",
      "source": [
        "# Step 1\n",
        "n = 2089\n",
        "n_above = 1734\n",
        "pct_above = n_above / n\n",
        "\n",
        "n_below = n - n_above\n",
        "pct_below = round(n_below / n, 3)\n",
        "\n",
        "print(f\"Proportion of 10th graders reading below an 8th-grade level: {pct_below}\")\n",
        "\n",
        "# Step 2\n",
        "z = 2.33 #abs(scipy.stats.t.ppf(0.01, n-1))\n",
        "print(f\"Test statistic: {z}\")\n",
        "\n",
        "# Calculating lower & upper bounds\n",
        "lower_bound = round((pct_below - z * np.sqrt((pct_below * (1 - pct_below)/ n))), 3)\n",
        "upper_bound = round((pct_below + z * np.sqrt((pct_below * (1 - pct_below)/ n))), 3)\n",
        "print(f\"Confidence interval lower bound: {lower_bound}\")\n",
        "print(f\"Confidence interval upper bound: {upper_bound}\")"
      ],
      "metadata": {
        "colab": {
          "base_uri": "https://localhost:8080/"
        },
        "id": "G4jmFx58FZRd",
        "outputId": "ea04732a-b7bd-4b77-82cc-abb96ae3d441"
      },
      "execution_count": 188,
      "outputs": [
        {
          "output_type": "stream",
          "name": "stdout",
          "text": [
            "Proportion of 10th graders reading below an 8th-grade level: 0.17\n",
            "Test statistic: 2.33\n",
            "Confidence interval lower bound: 0.151\n",
            "Confidence interval upper bound: 0.189\n"
          ]
        }
      ]
    },
    {
      "cell_type": "markdown",
      "source": [
        "\n",
        "21.\tAn environmentalist wants to find out the fraction of oil tankers that have spills each month.\n",
        "\n",
        "  Step 1. Suppose a sample of 474 tankers is drawn.  Of these ships, 156 had spills.  Using the data, estimate the proportion of oil tankers that had spills. (Write your answer as a fraction or a decimal number rounded to 3 decimal places)    \n",
        "  \n",
        "  Step 2. Suppose a sample of 474 tankers is drawn.  Of these ships, 156 had spills.  Using the data, construct the 95% confidence interval for the population proportion of oil tankers that have spills each month. (Round your answers to 3 decimal places)"
      ],
      "metadata": {
        "id": "xgzH5slSHfd0"
      }
    },
    {
      "cell_type": "code",
      "source": [
        "# Step 1\n",
        "n = 474\n",
        "n_spills = 156\n",
        "pct_spills = round(n_spills / n, 3)\n",
        "\n",
        "print(f'Proportion of oil tankers with spills: {pct_spills}')\n",
        "\n",
        "# Step 2\n",
        "z = round(abs(scipy.stats.t.ppf(0.025, n-1)), 2)\n",
        "print(f\"Test statistic: {z}\")\n",
        "\n",
        "# Calculating lower & upper bounds\n",
        "lower_bound = round((pct_spills - z * np.sqrt((pct_spills * (1 - pct_spills)/ n))), 3)\n",
        "upper_bound = round((pct_spills + z * np.sqrt((pct_spills * (1 - pct_spills)/ n))), 3)\n",
        "print(f\"Confidence interval lower bound: {lower_bound}\")\n",
        "print(f\"Confidence interval upper bound: {upper_bound}\")"
      ],
      "metadata": {
        "colab": {
          "base_uri": "https://localhost:8080/"
        },
        "id": "ZHh7kJR7GERd",
        "outputId": "d53d4a77-7f8a-47aa-c1a4-0a0fcc77815f"
      },
      "execution_count": 192,
      "outputs": [
        {
          "output_type": "stream",
          "name": "stdout",
          "text": [
            "Proportion of oil tankers with spills: 0.329\n",
            "Test statistic: 1.96\n",
            "Confidence interval lower bound: 0.287\n",
            "Confidence interval upper bound: 0.371\n"
          ]
        }
      ]
    },
    {
      "cell_type": "code",
      "source": [
        ""
      ],
      "metadata": {
        "id": "itxYbiI7H6Ub"
      },
      "execution_count": null,
      "outputs": []
    }
  ]
}